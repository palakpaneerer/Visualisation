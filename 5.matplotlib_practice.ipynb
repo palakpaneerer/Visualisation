{
 "cells": [
  {
   "cell_type": "code",
   "execution_count": null,
   "metadata": {},
   "outputs": [],
   "source": [
    "# よく使うがこのコードに含まれないもの\n",
    "\n",
    "# X軸のラベルを90度回転\n",
    "plt.xticks(rotation=90)"
   ]
  },
  {
   "cell_type": "code",
   "execution_count": 1,
   "metadata": {},
   "outputs": [],
   "source": [
    "import numpy as np\n",
    "import matplotlib.pyplot as plt\n",
    "np.random.seed(1)"
   ]
  },
  {
   "cell_type": "markdown",
   "metadata": {},
   "source": [
    "# 1 基本的な可視化"
   ]
  },
  {
   "cell_type": "markdown",
   "metadata": {},
   "source": [
    "グラフサイズ: 縦5、横3  \n",
    "タイトル: title  \n",
    "xラベル: xlabel  \n",
    "yラベル: ylabel  \n",
    "縦軸の値の幅: 0-1  \n",
    "横軸の値の幅: 0-1  \n",
    "グリッド表示: 有  \n",
    "軸の値のサイズ: 10  "
   ]
  },
  {
   "cell_type": "code",
   "execution_count": 5,
   "metadata": {},
   "outputs": [
    {
     "data": {
      "image/png": "[encoded data removed]",
      "text/plain": [
       "<Figure size 360x216 with 1 Axes>"
      ]
     },
     "metadata": {
      "needs_background": "light"
     },
     "output_type": "display_data"
    }
   ],
   "source": [
    "plt.figure(figsize=(5,3))\n",
    "plt.title('title', fontsize=10)\n",
    "plt.xlabel('xlabel', fontsize=10)\n",
    "plt.ylabel('ylabel', fontsize=10)\n",
    "plt.xlim(0,1)\n",
    "plt.ylim(0,1)\n",
    "plt.grid(True)\n",
    "plt.tick_params(labelsize=10)\n",
    "plt.show()\n"
   ]
  },
  {
   "cell_type": "markdown",
   "metadata": {},
   "source": [
    "# 2 1次元プロット"
   ]
  },
  {
   "cell_type": "markdown",
   "metadata": {},
   "source": [
    "## 2.1 ヒストグラム (1次元)"
   ]
  },
  {
   "cell_type": "code",
   "execution_count": 8,
   "metadata": {},
   "outputs": [],
   "source": [
    "x_hist = np.random.normal(50, 10, 100)"
   ]
  },
  {
   "cell_type": "code",
   "execution_count": 19,
   "metadata": {},
   "outputs": [
    {
     "data": {
      "image/png": "[encoded data removed]",
      "text/plain": [
       "<Figure size 360x216 with 1 Axes>"
      ]
     },
     "metadata": {
      "needs_background": "light"
     },
     "output_type": "display_data"
    }
   ],
   "source": [
    "plt.figure(figsize=(5,3))\n",
    "plt.title('histgram', fontsize=10)\n",
    "plt.xlabel('randam_value', fontsize=10)\n",
    "plt.ylabel('count', fontsize=10)\n",
    "plt.xlim(0,80)\n",
    "plt.ylim(0,15)\n",
    "plt.grid(True)\n",
    "plt.tick_params(labelsize=10)\n",
    "\n",
    "plt.hist(x_hist, bins=20, color='red', alpha=0.2, ec='black')\n",
    "plt.show()"
   ]
  },
  {
   "cell_type": "markdown",
   "metadata": {},
   "source": [
    "## 2.2 棒グラフ (1次元)"
   ]
  },
  {
   "cell_type": "code",
   "execution_count": 20,
   "metadata": {},
   "outputs": [],
   "source": [
    "x_bar = np.random.choice([\"Male\", \"Female\"], 100)"
   ]
  },
  {
   "cell_type": "code",
   "execution_count": 21,
   "metadata": {},
   "outputs": [
    {
     "data": {
      "text/plain": [
       "array(['Female', 'Male', 'Male', 'Female', 'Male', 'Male', 'Male',\n",
       "       'Female', 'Male', 'Female', 'Male', 'Female', 'Male', 'Male',\n",
       "       'Male', 'Male', 'Female', 'Female', 'Male', 'Male', 'Male',\n",
       "       'Female', 'Male', 'Female', 'Female', 'Male', 'Male', 'Female',\n",
       "       'Male', 'Female', 'Male', 'Male', 'Male', 'Female', 'Male',\n",
       "       'Female', 'Male', 'Female', 'Female', 'Female', 'Male', 'Female',\n",
       "       'Male', 'Female', 'Female', 'Female', 'Female', 'Male', 'Male',\n",
       "       'Female', 'Male', 'Male', 'Male', 'Male', 'Female', 'Female',\n",
       "       'Male', 'Female', 'Female', 'Male', 'Male', 'Female', 'Female',\n",
       "       'Female', 'Female', 'Female', 'Female', 'Female', 'Male', 'Male',\n",
       "       'Male', 'Male', 'Male', 'Male', 'Male', 'Female', 'Male', 'Male',\n",
       "       'Male', 'Male', 'Male', 'Female', 'Female', 'Female', 'Female',\n",
       "       'Male', 'Male', 'Male', 'Female', 'Male', 'Female', 'Male',\n",
       "       'Female', 'Male', 'Male', 'Male', 'Male', 'Male', 'Male', 'Female'],\n",
       "      dtype='<U6')"
      ]
     },
     "execution_count": 21,
     "metadata": {},
     "output_type": "execute_result"
    }
   ],
   "source": [
    "x_bar"
   ]
  },
  {
   "cell_type": "code",
   "execution_count": 23,
   "metadata": {},
   "outputs": [
    {
     "data": {
      "text/plain": [
       "range(0, 2)"
      ]
     },
     "execution_count": 23,
     "metadata": {},
     "output_type": "execute_result"
    }
   ],
   "source": [
    "count_unique = np.unique(x_bar, return_counts=True)\n",
    "axis_x = range(len(count_unique))"
   ]
  },
  {
   "cell_type": "code",
   "execution_count": 25,
   "metadata": {},
   "outputs": [
    {
     "name": "stdout",
     "output_type": "stream",
     "text": [
      "(array(['Female', 'Male'], dtype='<U6'), array([43, 57], dtype=int64))\n",
      "\n",
      "['Female' 'Male']\n",
      "[43 57]\n",
      "range(0, 2)\n"
     ]
    }
   ],
   "source": [
    "print(count_unique)\n",
    "print()\n",
    "print(count_unique[0])\n",
    "print(count_unique[1])\n",
    "print(axis_x)"
   ]
  },
  {
   "cell_type": "code",
   "execution_count": 33,
   "metadata": {},
   "outputs": [
    {
     "data": {
      "image/png": "[encoded data removed]",
      "text/plain": [
       "<Figure size 360x216 with 1 Axes>"
      ]
     },
     "metadata": {
      "needs_background": "light"
     },
     "output_type": "display_data"
    }
   ],
   "source": [
    "plt.figure(figsize=(5,3))\n",
    "plt.title('Counts by gender', fontsize=10)\n",
    "plt.xlabel('Gneder', fontsize=10)\n",
    "plt.ylabel('Counts', fontsize=10)\n",
    "plt.grid(True)\n",
    "plt.tick_params(labelsize=10)\n",
    "\n",
    "plt.xticks(axis_x, count_unique[0])\n",
    "plt.bar(axis_x, count_unique[1])\n",
    "plt.show()"
   ]
  },
  {
   "cell_type": "markdown",
   "metadata": {},
   "source": [
    "# 3 2次元プロット"
   ]
  },
  {
   "cell_type": "markdown",
   "metadata": {},
   "source": [
    "## 3.1 散布図 (2次元)"
   ]
  },
  {
   "cell_type": "code",
   "execution_count": 34,
   "metadata": {},
   "outputs": [],
   "source": [
    "x_plot = np.random.normal(50, 10, 100)\n",
    "y_plot = np.random.normal(x_plot, 10, 100)"
   ]
  },
  {
   "cell_type": "code",
   "execution_count": 39,
   "metadata": {},
   "outputs": [
    {
     "data": {
      "image/png": "[encoded data removed]",
      "text/plain": [
       "<Figure size 360x216 with 1 Axes>"
      ]
     },
     "metadata": {
      "needs_background": "light"
     },
     "output_type": "display_data"
    }
   ],
   "source": [
    "plt.figure(figsize=(5,3))\n",
    "plt.title('Random plot', fontsize=10)\n",
    "plt.xlabel('xlabel', fontsize=10)\n",
    "plt.ylabel('ylabel', fontsize=10)\n",
    "plt.tick_params(labelsize=10)\n",
    "plt.grid(True)\n",
    "\n",
    "\n",
    "plt.scatter(x_plot, y_plot, s=10, marker='x', color='blue')\n",
    "plt.show()"
   ]
  },
  {
   "cell_type": "markdown",
   "metadata": {},
   "source": [
    "## 3.2 折れ線グラフ"
   ]
  },
  {
   "cell_type": "code",
   "execution_count": 40,
   "metadata": {},
   "outputs": [],
   "source": [
    "x_plot = np.arange(10)\n",
    "y_plot = np.random.randint(0, 10, 10)"
   ]
  },
  {
   "cell_type": "code",
   "execution_count": 42,
   "metadata": {},
   "outputs": [
    {
     "data": {
      "image/png": "[encoded data removed]",
      "text/plain": [
       "<Figure size 360x216 with 1 Axes>"
      ]
     },
     "metadata": {
      "needs_background": "light"
     },
     "output_type": "display_data"
    }
   ],
   "source": [
    "plt.figure(figsize=(5,3))\n",
    "plt.title('Line graph', fontsize=10)\n",
    "plt.xlabel('xlabel', fontsize=10)\n",
    "plt.ylabel('ylabel', fontsize=10)\n",
    "plt.tick_params(labelsize=10)\n",
    "plt.grid(True)\n",
    "\n",
    "plt.plot(x_plot, y_plot)\n",
    "plt.show()\n"
   ]
  },
  {
   "cell_type": "markdown",
   "metadata": {},
   "source": [
    "# 4 複数のプロット"
   ]
  },
  {
   "cell_type": "markdown",
   "metadata": {},
   "source": [
    "## 4.1 プロットを重ねる"
   ]
  },
  {
   "cell_type": "code",
   "execution_count": 43,
   "metadata": {},
   "outputs": [],
   "source": [
    "x_plot = np.arange(10)\n",
    "y_plot = np.random.randint(0, 10, 10)\n",
    "y_plot２ = np.random.randint(0, 10, 10)"
   ]
  },
  {
   "cell_type": "code",
   "execution_count": 48,
   "metadata": {},
   "outputs": [
    {
     "data": {
      "image/png": "[encoded data removed]",
      "text/plain": [
       "<Figure size 360x216 with 1 Axes>"
      ]
     },
     "metadata": {
      "needs_background": "light"
     },
     "output_type": "display_data"
    }
   ],
   "source": [
    "plt.figure(figsize=(5, 3))\n",
    "plt.title(\"input title\", fontsize=10)\n",
    "plt.xlabel(\"input xlabel\", fontsize=10)\n",
    "plt.ylabel(\"input ylabel\", fontsize=10)\n",
    "plt.grid(True)\n",
    "plt.tick_params(labelsize = 10)\n",
    "\n",
    "plt.plot(x_plot, y_plot, color=\"red\", label='Plot 1')\n",
    "plt.plot(x_plot, y_plot2, color=\"blue\", label='Plot 2')\n",
    "plt.legend()\n",
    "plt.show()"
   ]
  },
  {
   "cell_type": "markdown",
   "metadata": {},
   "source": [
    "## 4.2 グリッド型"
   ]
  },
  {
   "cell_type": "code",
   "execution_count": 58,
   "metadata": {},
   "outputs": [],
   "source": [
    "y_plot1 = np.random.randint(0, 10, 10)\n",
    "y_plot2 = np.random.randint(1, 11, 10)\n",
    "y_plot3 = np.random.randint(2, 12, 10)\n",
    "y_plot4 = np.random.randint(3, 13, 10)\n",
    "y_plot5 = np.random.randint(4, 14, 10)"
   ]
  },
  {
   "cell_type": "code",
   "execution_count": 64,
   "metadata": {},
   "outputs": [
    {
     "data": {
      "image/png": "[encoded data removed]",
      "text/plain": [
       "<Figure size 720x432 with 6 Axes>"
      ]
     },
     "metadata": {
      "needs_background": "light"
     },
     "output_type": "display_data"
    }
   ],
   "source": [
    "h = 2\n",
    "w = 3\n",
    "y_plots = [y_plot1, y_plot2, y_plot3, y_plot4, y_plot5]\n",
    "\n",
    "fig = plt.figure(figsize=(10,6))\n",
    "for n in range(h*w):\n",
    "    ax = fig.add_subplot(h, w, n+1)\n",
    "    if n < len(y_plots):\n",
    "        ax.hist(y_plots[n], alpha=0.2)\n",
    "        ax.set_title(f'sample {n+1}')\n",
    "\n",
    "plt.tight_layout()\n",
    "plt.show()"
   ]
  }
 ],
 "metadata": {
  "kernelspec": {
   "display_name": "base",
   "language": "python",
   "name": "python3"
  },
  "language_info": {
   "codemirror_mode": {
    "name": "ipython",
    "version": 3
   },
   "file_extension": ".py",
   "mimetype": "text/x-python",
   "name": "python",
   "nbconvert_exporter": "python",
   "pygments_lexer": "ipython3",
   "version": "3.8.8"
  }
 },
 "nbformat": 4,
 "nbformat_minor": 2
}

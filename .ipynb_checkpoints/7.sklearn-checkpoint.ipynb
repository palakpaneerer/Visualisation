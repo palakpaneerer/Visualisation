{
 "cells": [
  {
   "cell_type": "code",
   "execution_count": 1,
   "id": "bb793cc0-3ab1-4d68-bd98-cde24450baf9",
   "metadata": {},
   "outputs": [],
   "source": [
    "import numpy as np\n",
    "import pandas as pd\n",
    "import matplotlib.pyplot as plt\n",
    "from sklearn.model_selection import train_test_split\n",
    "from sklearn.linear_model import LinearRegression\n",
    "from sklearn.metrics import mean_squared_error\n",
    "np.random.seed(1)"
   ]
  },
  {
   "cell_type": "markdown",
   "id": "2d1f3b20-a7d8-4b8a-a9c1-191f3497e0d5",
   "metadata": {},
   "source": [
    "# 1 データの準備"
   ]
  },
  {
   "cell_type": "code",
   "execution_count": 2,
   "id": "766ecdc9-f091-4fc2-98cf-675db0d4aa70",
   "metadata": {},
   "outputs": [
    {
     "data": {
      "text/html": [
       "<div>\n",
       "<style scoped>\n",
       "    .dataframe tbody tr th:only-of-type {\n",
       "        vertical-align: middle;\n",
       "    }\n",
       "\n",
       "    .dataframe tbody tr th {\n",
       "        vertical-align: top;\n",
       "    }\n",
       "\n",
       "    .dataframe thead th {\n",
       "        text-align: right;\n",
       "    }\n",
       "</style>\n",
       "<table border=\"1\" class=\"dataframe\">\n",
       "  <thead>\n",
       "    <tr style=\"text-align: right;\">\n",
       "      <th></th>\n",
       "      <th>x1</th>\n",
       "      <th>x2</th>\n",
       "      <th>x3</th>\n",
       "      <th>y</th>\n",
       "    </tr>\n",
       "  </thead>\n",
       "  <tbody>\n",
       "    <tr>\n",
       "      <th>0</th>\n",
       "      <td>1.624345</td>\n",
       "      <td>-0.447129</td>\n",
       "      <td>-0.400878</td>\n",
       "      <td>5.986564</td>\n",
       "    </tr>\n",
       "    <tr>\n",
       "      <th>1</th>\n",
       "      <td>-0.611756</td>\n",
       "      <td>1.224508</td>\n",
       "      <td>0.824006</td>\n",
       "      <td>1.398987</td>\n",
       "    </tr>\n",
       "    <tr>\n",
       "      <th>2</th>\n",
       "      <td>-0.528172</td>\n",
       "      <td>0.403492</td>\n",
       "      <td>-0.562305</td>\n",
       "      <td>-1.516040</td>\n",
       "    </tr>\n",
       "    <tr>\n",
       "      <th>3</th>\n",
       "      <td>-1.072969</td>\n",
       "      <td>0.593579</td>\n",
       "      <td>1.954878</td>\n",
       "      <td>6.892839</td>\n",
       "    </tr>\n",
       "    <tr>\n",
       "      <th>4</th>\n",
       "      <td>0.865408</td>\n",
       "      <td>-1.094912</td>\n",
       "      <td>-1.331952</td>\n",
       "      <td>2.687744</td>\n",
       "    </tr>\n",
       "  </tbody>\n",
       "</table>\n",
       "</div>"
      ],
      "text/plain": [
       "         x1        x2        x3         y\n",
       "0  1.624345 -0.447129 -0.400878  5.986564\n",
       "1 -0.611756  1.224508  0.824006  1.398987\n",
       "2 -0.528172  0.403492 -0.562305 -1.516040\n",
       "3 -1.072969  0.593579  1.954878  6.892839\n",
       "4  0.865408 -1.094912 -1.331952  2.687744"
      ]
     },
     "execution_count": 2,
     "metadata": {},
     "output_type": "execute_result"
    }
   ],
   "source": [
    "x1 = np.random.randn(100)\n",
    "x2 = np.random.randn(100)\n",
    "x3 = np.random.randn(100)\n",
    "y = 3 + 2*x1 - 3*x2 + 4*x3\n",
    "df = pd.DataFrame({\"x1\": x1, \"x2\": x2, \"x3\": x3, \"y\": y})\n",
    "df.head()"
   ]
  },
  {
   "cell_type": "code",
   "execution_count": 3,
   "id": "b2f0b5b8-4da6-4ac5-83df-d18e7e9a63b1",
   "metadata": {},
   "outputs": [
    {
     "name": "stdout",
     "output_type": "stream",
     "text": [
      "(75,) (25,) (75,) (25,)\n"
     ]
    }
   ],
   "source": [
    "x = df[\"x1\"]\n",
    "y = df[\"y\"]\n",
    "x_train, x_test, y_train, y_test = train_test_split(x, y)\n",
    "print(x_train.shape, x_test.shape, y_train.shape, y_test.shape)"
   ]
  },
  {
   "cell_type": "markdown",
   "id": "40e93d90-7b97-45fe-b423-a5d8f950df4e",
   "metadata": {},
   "source": [
    "# 2 単回帰分析"
   ]
  },
  {
   "cell_type": "code",
   "execution_count": 4,
   "id": "6a184110-ef7a-4f03-a789-2a4a60a53c66",
   "metadata": {
    "tags": []
   },
   "outputs": [
    {
     "name": "stdout",
     "output_type": "stream",
     "text": [
      "coef_ : [1.64720529]\n",
      "intercept_ : 2.6022282364128317\n",
      "y_pred shape : (25,)\n",
      "MSE : 11.583298553553401\n"
     ]
    }
   ],
   "source": [
    "model = LinearRegression()\n",
    "model.fit(x_train.values.reshape(-1, 1), y_train)\n",
    "\n",
    "print(\"coef_ :\", model.coef_)\n",
    "print(\"intercept_ :\", model.intercept_)\n",
    "\n",
    "y_pred = model.predict(x_test.values.reshape(-1, 1))\n",
    "print(\"y_pred shape :\", y_pred.shape)\n",
    "print(\"MSE :\", mean_squared_error(y_test, y_pred))"
   ]
  },
  {
   "cell_type": "code",
   "execution_count": 5,
   "id": "8da20e7d-da45-4302-b788-b09b7c8031cb",
   "metadata": {},
   "outputs": [
    {
     "data": {
      "image/png": "[encoded data removed]",
      "text/plain": [
       "<Figure size 500x300 with 1 Axes>"
      ]
     },
     "metadata": {},
     "output_type": "display_data"
    }
   ],
   "source": [
    "plt.figure(figsize=(5, 3))\n",
    "\n",
    "plt.scatter(x_train, y_train)\n",
    "\n",
    "x_plot = np.arange(-3, 4, 1)\n",
    "plt.plot(x_plot, model.predict(x_plot.reshape(-1, 1)), color=\"red\")\n",
    "\n",
    "plt.show()"
   ]
  },
  {
   "cell_type": "markdown",
   "id": "68f058bb-c9d0-4343-b503-0aaa82e661aa",
   "metadata": {},
   "source": [
    "# 3 重回帰分析"
   ]
  },
  {
   "cell_type": "code",
   "execution_count": 6,
   "id": "92eced3a-adbf-4f77-bd3d-12764995296b",
   "metadata": {},
   "outputs": [
    {
     "name": "stdout",
     "output_type": "stream",
     "text": [
      "(75, 3) (25, 3) (75,) (25,)\n"
     ]
    }
   ],
   "source": [
    "X = df[[\"x1\", \"x2\", \"x3\"]]\n",
    "y = df[\"y\"]\n",
    "X_train, X_test, y_train, y_test = train_test_split(X, y)\n",
    "print(X_train.shape, X_test.shape, y_train.shape, y_test.shape)"
   ]
  },
  {
   "cell_type": "code",
   "execution_count": 7,
   "id": "f084d144-f71e-415f-a2ef-bef057141c20",
   "metadata": {},
   "outputs": [
    {
     "name": "stdout",
     "output_type": "stream",
     "text": [
      "coef_ : [ 2. -3.  4.]\n",
      "intercept_ : 3.0\n",
      "y_pred shape : (25,)\n",
      "MSE : 1.3351470820865624e-30\n"
     ]
    }
   ],
   "source": [
    "model2 = LinearRegression()\n",
    "model2.fit(X_train, y_train)\n",
    "\n",
    "print(\"coef_ :\", model2.coef_)\n",
    "print(\"intercept_ :\", model2.intercept_)\n",
    "\n",
    "y_pred = model2.predict(X_test)\n",
    "print(\"y_pred shape :\", y_pred.shape)\n",
    "print(\"MSE :\", mean_squared_error(y_test, y_pred))"
   ]
  },
  {
   "cell_type": "markdown",
   "id": "1745bcb7-7115-4b80-b0a6-555170076463",
   "metadata": {},
   "source": [
    "# 4 単回帰分析Class"
   ]
  },
  {
   "cell_type": "code",
   "execution_count": 8,
   "id": "833dbef6-0ab3-4614-9c75-b87cbf6752ba",
   "metadata": {},
   "outputs": [],
   "source": [
    "class SimpleLR:\n",
    "    def __init__(self):\n",
    "        pass\n",
    "    \n",
    "    def fit(self, x_train, y_train):\n",
    "        n = len(x_train)\n",
    "        self.coef_ = ((np.dot(x_train, y_train) - y_train.sum() * \\\n",
    "                       x_train.sum() / n)/ \\\n",
    "                      ((x_train**2).sum() - x_train.sum()**2 / n)) \n",
    "        self.intercept_ = (y_train.sum() - self.coef_ * x_train.sum()) / n\n",
    "        \n",
    "    def predict(self, x_test):\n",
    "        y_pred = self.intercept_ + self.coef_*x_test\n",
    "        return y_pred\n",
    "    \n",
    "    def mse(self, y_test, y_pred):\n",
    "        L = ((y_test - y_pred)**2).sum() / len(y_test)\n",
    "        return L"
   ]
  },
  {
   "cell_type": "code",
   "execution_count": 9,
   "id": "e10356bf-c214-4324-b008-5ad8d5a44ec1",
   "metadata": {},
   "outputs": [
    {
     "name": "stdout",
     "output_type": "stream",
     "text": [
      "(75,) (25,) (75,) (25,)\n"
     ]
    }
   ],
   "source": [
    "x = df[\"x1\"]\n",
    "y = df[\"y\"]\n",
    "x_train, x_test, y_train, y_test = train_test_split(x, y)\n",
    "print(x_train.shape, x_test.shape, y_train.shape, y_test.shape)"
   ]
  },
  {
   "cell_type": "code",
   "execution_count": 10,
   "id": "bb8e977d-bff9-4459-9a39-1e95dd8ecda8",
   "metadata": {},
   "outputs": [
    {
     "name": "stdout",
     "output_type": "stream",
     "text": [
      "coef_ : 1.5902423981483704\n",
      "intercept_ : 2.351659235340048\n",
      "y_pred shape : (25,)\n",
      "MSE : 21.97032575061593\n"
     ]
    }
   ],
   "source": [
    "model3 = SimpleLR()\n",
    "model3.fit(x_train, y_train)\n",
    "\n",
    "print(\"coef_ :\", model3.coef_)\n",
    "print(\"intercept_ :\", model3.intercept_)\n",
    "\n",
    "y_pred = model3.predict(x_test)\n",
    "print(\"y_pred shape :\", y_pred.shape)\n",
    "print(\"MSE :\", model3.mse(y_test, y_pred))"
   ]
  },
  {
   "cell_type": "code",
   "execution_count": 11,
   "id": "ffe92870-74ec-41b6-b29d-d527eb3567b1",
   "metadata": {},
   "outputs": [
    {
     "name": "stdout",
     "output_type": "stream",
     "text": [
      "coef_ : [1.5902424]\n",
      "intercept_ : 2.351659235340048\n",
      "y_pred shape : (25,)\n",
      "MSE : 21.97032575061593\n"
     ]
    }
   ],
   "source": [
    "model = LinearRegression()\n",
    "model.fit(x_train.values.reshape(-1, 1), y_train)\n",
    "\n",
    "print(\"coef_ :\", model.coef_)\n",
    "print(\"intercept_ :\", model.intercept_)\n",
    "\n",
    "y_pred = model.predict(x_test.values.reshape(-1, 1))\n",
    "print(\"y_pred shape :\", y_pred.shape)\n",
    "print(\"MSE :\", mean_squared_error(y_test, y_pred))"
   ]
  },
  {
   "cell_type": "markdown",
   "id": "82eb7339-d5d2-407d-95d6-49ffb77c146d",
   "metadata": {},
   "source": [
    "# 5 ロジスティック回帰"
   ]
  },
  {
   "cell_type": "markdown",
   "id": "f62b154b-fb8e-41e8-a9a1-a2f2055ccbe7",
   "metadata": {},
   "source": [
    "## 5.1 データの作成"
   ]
  },
  {
   "cell_type": "code",
   "execution_count": 12,
   "id": "d6afe885-6c33-44a9-aa32-f90fb74f7e30",
   "metadata": {},
   "outputs": [
    {
     "data": {
      "text/html": [
       "<div>\n",
       "<style scoped>\n",
       "    .dataframe tbody tr th:only-of-type {\n",
       "        vertical-align: middle;\n",
       "    }\n",
       "\n",
       "    .dataframe tbody tr th {\n",
       "        vertical-align: top;\n",
       "    }\n",
       "\n",
       "    .dataframe thead th {\n",
       "        text-align: right;\n",
       "    }\n",
       "</style>\n",
       "<table border=\"1\" class=\"dataframe\">\n",
       "  <thead>\n",
       "    <tr style=\"text-align: right;\">\n",
       "      <th></th>\n",
       "      <th>x1</th>\n",
       "      <th>x2</th>\n",
       "      <th>x3</th>\n",
       "      <th>z</th>\n",
       "      <th>p</th>\n",
       "      <th>y</th>\n",
       "    </tr>\n",
       "  </thead>\n",
       "  <tbody>\n",
       "    <tr>\n",
       "      <th>0</th>\n",
       "      <td>-0.052553</td>\n",
       "      <td>-0.333692</td>\n",
       "      <td>-0.122315</td>\n",
       "      <td>0.662271</td>\n",
       "      <td>0.659770</td>\n",
       "      <td>1</td>\n",
       "    </tr>\n",
       "    <tr>\n",
       "      <th>1</th>\n",
       "      <td>-1.774490</td>\n",
       "      <td>-0.367659</td>\n",
       "      <td>-0.955035</td>\n",
       "      <td>-2.547158</td>\n",
       "      <td>0.072618</td>\n",
       "      <td>0</td>\n",
       "    </tr>\n",
       "    <tr>\n",
       "      <th>2</th>\n",
       "      <td>-0.789922</td>\n",
       "      <td>-1.153383</td>\n",
       "      <td>-1.542625</td>\n",
       "      <td>0.070158</td>\n",
       "      <td>0.517532</td>\n",
       "      <td>1</td>\n",
       "    </tr>\n",
       "    <tr>\n",
       "      <th>3</th>\n",
       "      <td>0.586201</td>\n",
       "      <td>0.789118</td>\n",
       "      <td>-0.128328</td>\n",
       "      <td>0.061533</td>\n",
       "      <td>0.515378</td>\n",
       "      <td>0</td>\n",
       "    </tr>\n",
       "    <tr>\n",
       "      <th>4</th>\n",
       "      <td>0.230564</td>\n",
       "      <td>0.657338</td>\n",
       "      <td>0.441143</td>\n",
       "      <td>-0.117592</td>\n",
       "      <td>0.470636</td>\n",
       "      <td>0</td>\n",
       "    </tr>\n",
       "  </tbody>\n",
       "</table>\n",
       "</div>"
      ],
      "text/plain": [
       "         x1        x2        x3         z         p  y\n",
       "0 -0.052553 -0.333692 -0.122315  0.662271  0.659770  1\n",
       "1 -1.774490 -0.367659 -0.955035 -2.547158  0.072618  0\n",
       "2 -0.789922 -1.153383 -1.542625  0.070158  0.517532  1\n",
       "3  0.586201  0.789118 -0.128328  0.061533  0.515378  0\n",
       "4  0.230564  0.657338  0.441143 -0.117592  0.470636  0"
      ]
     },
     "execution_count": 12,
     "metadata": {},
     "output_type": "execute_result"
    }
   ],
   "source": [
    "n = 10000\n",
    "x1 = np.random.randn(n)\n",
    "x2 = np.random.randn(n)\n",
    "x3 = np.random.randn(n)\n",
    "\n",
    "z = 0.3 + 1.7*x1 - 1.5*x2 + 0.4*x3\n",
    "p = 1 / (1 + np.exp(-z))\n",
    "y = np.random.binomial(1, p, n)\n",
    "\n",
    "df = pd.DataFrame({\"x1\": x1, \"x2\": x2, \"x3\": x3, \"z\": z, \"p\": p, \"y\": y})\n",
    "df.head()"
   ]
  },
  {
   "cell_type": "code",
   "execution_count": 13,
   "id": "06cb6416-59df-430f-bad9-5bfbcfbc26fc",
   "metadata": {},
   "outputs": [
    {
     "data": {
      "text/plain": [
       "1    5460\n",
       "0    4540\n",
       "Name: y, dtype: int64"
      ]
     },
     "execution_count": 13,
     "metadata": {},
     "output_type": "execute_result"
    }
   ],
   "source": [
    "df[\"y\"].value_counts()"
   ]
  },
  {
   "cell_type": "code",
   "execution_count": 14,
   "id": "fb90c0cf-131d-4fee-86fe-6f4577c7d129",
   "metadata": {},
   "outputs": [
    {
     "name": "stdout",
     "output_type": "stream",
     "text": [
      "(7500, 3) (2500, 3) (7500,) (2500,)\n"
     ]
    }
   ],
   "source": [
    "X = df[[\"x1\", \"x2\", \"x3\"]]\n",
    "y = df[\"y\"]\n",
    "X_train, X_test, y_train, y_test = train_test_split(X, y)\n",
    "print(X_train.shape, X_test.shape, y_train.shape, y_test.shape)"
   ]
  },
  {
   "cell_type": "markdown",
   "id": "d8dd21e6-bbd9-42c6-b107-9bc704e54d8e",
   "metadata": {},
   "source": [
    "## 5.2 ロジスティック回帰"
   ]
  },
  {
   "cell_type": "code",
   "execution_count": 15,
   "id": "46173006-bfd2-4895-9a6a-5e7d5c6fe9dc",
   "metadata": {},
   "outputs": [
    {
     "name": "stdout",
     "output_type": "stream",
     "text": [
      "coef_ : [[ 1.74702238 -1.57886879  0.44782699]]\n",
      "intercept_ : [0.29970045]\n",
      "y_pred shape : (2500,)\n",
      "Accuracy : 0.8052\n"
     ]
    }
   ],
   "source": [
    "from sklearn.linear_model import LogisticRegression\n",
    "from sklearn.metrics import accuracy_score\n",
    "\n",
    "model4 = LogisticRegression()\n",
    "model4.fit(X_train, y_train)\n",
    "\n",
    "print(\"coef_ :\", model4.coef_)\n",
    "print(\"intercept_ :\", model4.intercept_)\n",
    "\n",
    "y_pred = model4.predict(X_test)\n",
    "print(\"y_pred shape :\", y_pred.shape)\n",
    "print(\"Accuracy :\", accuracy_score(y_test, y_pred))"
   ]
  },
  {
   "cell_type": "code",
   "execution_count": null,
   "id": "915be3ea-3d80-46d0-9af1-0503474bcac5",
   "metadata": {},
   "outputs": [],
   "source": []
  }
 ],
 "metadata": {
  "kernelspec": {
   "display_name": "Python 3 (ipykernel)",
   "language": "python",
   "name": "python3"
  },
  "language_info": {
   "codemirror_mode": {
    "name": "ipython",
    "version": 3
   },
   "file_extension": ".py",
   "mimetype": "text/x-python",
   "name": "python",
   "nbconvert_exporter": "python",
   "pygments_lexer": "ipython3",
   "version": "3.9.12"
  }
 },
 "nbformat": 4,
 "nbformat_minor": 5
}

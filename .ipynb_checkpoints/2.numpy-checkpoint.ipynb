{
 "cells": [
  {
   "cell_type": "markdown",
   "id": "8cf05461-0a6f-4cc9-a2da-f383738c02f3",
   "metadata": {},
   "source": [
    "# 1 numpyのオブジェクト"
   ]
  },
  {
   "cell_type": "code",
   "execution_count": 1,
   "id": "2e64ec25-5968-4274-82c3-cc7f925ca534",
   "metadata": {
    "slideshow": {
     "slide_type": "slide"
    }
   },
   "outputs": [
    {
     "name": "stdout",
     "output_type": "stream",
     "text": [
      "<class 'module'>\n"
     ]
    }
   ],
   "source": [
    "import numpy as np\n",
    "print(type(np))\n",
    "np.random.seed(0)"
   ]
  },
  {
   "cell_type": "code",
   "execution_count": 2,
   "id": "7d5e812e-bf2f-495c-bf2d-55a1767d5822",
   "metadata": {
    "slideshow": {
     "slide_type": "-"
    }
   },
   "outputs": [],
   "source": [
    "sample_list1 = [1, 2, 3, 4]\n",
    "sample_list2 = [1, 2, \"a\", \"b\"]\n",
    "sample_ndarray1 = np.array(sample_list1)\n",
    "sample_ndarray2 = np.array(sample_list2)"
   ]
  },
  {
   "cell_type": "code",
   "execution_count": 3,
   "id": "f3f7d833-a52c-4b55-8d7c-022249168351",
   "metadata": {
    "slideshow": {
     "slide_type": "-"
    }
   },
   "outputs": [
    {
     "name": "stdout",
     "output_type": "stream",
     "text": [
      "[1 2 3 4] <class 'numpy.ndarray'> int64\n",
      "2 <class 'numpy.int64'>\n",
      "[1. 2. 3. 4.]\n"
     ]
    }
   ],
   "source": [
    "print(sample_ndarray1, type(sample_ndarray1), sample_ndarray1.dtype)\n",
    "print(sample_ndarray1[1], type(sample_ndarray1[1]))\n",
    "print(sample_ndarray1.astype(float))"
   ]
  },
  {
   "cell_type": "code",
   "execution_count": 4,
   "id": "1cbb207f-0c0d-4c0b-8f8a-97dfba269cbb",
   "metadata": {
    "slideshow": {
     "slide_type": "-"
    }
   },
   "outputs": [
    {
     "name": "stdout",
     "output_type": "stream",
     "text": [
      "['1' '2' 'a' 'b'] <class 'numpy.ndarray'> <U21\n",
      "2 <class 'numpy.str_'>\n"
     ]
    }
   ],
   "source": [
    "print(sample_ndarray2, type(sample_ndarray2), sample_ndarray2.dtype)\n",
    "print(sample_ndarray2[1], type(sample_ndarray2[1]))"
   ]
  },
  {
   "cell_type": "markdown",
   "id": "1441d1bc-5fd4-489b-8fb4-e19a7568a5a5",
   "metadata": {},
   "source": [
    "# 2 ndarrayの作成"
   ]
  },
  {
   "cell_type": "markdown",
   "id": "90e93d24-11b3-487d-9f2b-64e1cade4879",
   "metadata": {
    "slideshow": {
     "slide_type": "slide"
    }
   },
   "source": [
    "## 2.1 ndarrayの作成"
   ]
  },
  {
   "cell_type": "code",
   "execution_count": 5,
   "id": "8498f634-0aaa-40b4-807a-9e3a17b8829f",
   "metadata": {},
   "outputs": [
    {
     "name": "stdout",
     "output_type": "stream",
     "text": [
      "他の型からの変換\n",
      "[1 2 3 4]\n",
      "[1 2 3 4]\n"
     ]
    }
   ],
   "source": [
    "print(\"他の型からの変換\")\n",
    "print(np.array([1, 2, 3, 4]))\n",
    "print(np.array((1, 2, 3, 4)))"
   ]
  },
  {
   "cell_type": "code",
   "execution_count": 6,
   "id": "647a6114-6aaf-4e6f-905b-ca4717781db5",
   "metadata": {},
   "outputs": [
    {
     "name": "stdout",
     "output_type": "stream",
     "text": [
      "ランダムな配列作成\n",
      "[[0.5488135  0.71518937 0.60276338]\n",
      " [0.54488318 0.4236548  0.64589411]]\n",
      "[[ 0.95008842 -0.15135721 -0.10321885]\n",
      " [ 0.4105985   0.14404357  1.45427351]]\n",
      "[[8 1 5 9]\n",
      " [8 9 4 3]\n",
      " [0 3 5 0]]\n",
      "[[64.94079073 47.94841736 53.13067702]\n",
      " [41.45904261 24.47010184 56.53618595]]\n"
     ]
    }
   ],
   "source": [
    "print(\"ランダムな配列作成\")\n",
    "print(np.random.rand(2, 3))\n",
    "print(np.random.randn(2, 3))\n",
    "print(np.random.randint(0, 10, (3, 4)))\n",
    "print(np.random.normal(50, 10, (2, 3)))"
   ]
  },
  {
   "cell_type": "code",
   "execution_count": 7,
   "id": "b4b02ca9-1032-4344-88c4-5c8406f385e9",
   "metadata": {},
   "outputs": [
    {
     "name": "stdout",
     "output_type": "stream",
     "text": [
      "定数の配列作成\n",
      "[[0. 0. 0.]\n",
      " [0. 0. 0.]]\n",
      "[[1. 1. 1.]\n",
      " [1. 1. 1.]]\n"
     ]
    }
   ],
   "source": [
    "print(\"定数の配列作成\")\n",
    "print(np.zeros((2,3)))\n",
    "print(np.ones((2,3)))"
   ]
  },
  {
   "cell_type": "code",
   "execution_count": 8,
   "id": "a98d4e05-f8dc-4cbf-b1aa-1dda40fd1bbe",
   "metadata": {},
   "outputs": [
    {
     "name": "stdout",
     "output_type": "stream",
     "text": [
      "順番\n",
      "[0 1 2 3 4 5 6 7 8 9]\n",
      "[3 4 5 6 7]\n",
      "[0 2 4 6 8]\n"
     ]
    }
   ],
   "source": [
    "print(\"順番\")\n",
    "print(np.arange(10))\n",
    "print(np.arange(3, 8))\n",
    "print(np.arange(0, 10, 2))"
   ]
  },
  {
   "cell_type": "markdown",
   "id": "eba67635-f1c5-404a-9ef5-0de07685a531",
   "metadata": {},
   "source": [
    "## 2.2 形"
   ]
  },
  {
   "cell_type": "code",
   "execution_count": 9,
   "id": "348d294c-f92f-401a-883a-e01189f209e7",
   "metadata": {},
   "outputs": [
    {
     "name": "stdout",
     "output_type": "stream",
     "text": [
      "[[[3 2 7]\n",
      "  [2 0 0]]\n",
      "\n",
      " [[4 5 5]\n",
      "  [6 8 4]]]\n"
     ]
    }
   ],
   "source": [
    "sample_arr3 = np.random.randint(0, 10, (2, 2, 3))\n",
    "print(sample_arr3)"
   ]
  },
  {
   "cell_type": "code",
   "execution_count": 10,
   "id": "0c553da6-e23c-446f-8ab9-f19a79e2bbb9",
   "metadata": {},
   "outputs": [
    {
     "name": "stdout",
     "output_type": "stream",
     "text": [
      "(2, 2, 3) 12 3\n"
     ]
    }
   ],
   "source": [
    "print(sample_arr3.shape, sample_arr3.size, sample_arr3.ndim)"
   ]
  },
  {
   "cell_type": "code",
   "execution_count": 11,
   "id": "d5ea88f5-d4df-496c-9b7e-4103912d7f3c",
   "metadata": {},
   "outputs": [
    {
     "name": "stdout",
     "output_type": "stream",
     "text": [
      "[[3 2 7]\n",
      " [2 0 0]\n",
      " [4 5 5]\n",
      " [6 8 4]]\n"
     ]
    }
   ],
   "source": [
    "print(sample_arr3.reshape(4, 3))"
   ]
  },
  {
   "cell_type": "code",
   "execution_count": 12,
   "id": "0613f76b-9c33-4312-95da-54aefbfe166b",
   "metadata": {},
   "outputs": [
    {
     "name": "stdout",
     "output_type": "stream",
     "text": [
      "(2, 2, 3)\n",
      "[[[3 2]\n",
      "  [2 0]\n",
      "  [7 0]]\n",
      "\n",
      " [[4 6]\n",
      "  [5 8]\n",
      "  [5 4]]]\n",
      "(2, 3, 2)\n"
     ]
    }
   ],
   "source": [
    "print(sample_arr3.shape)\n",
    "print(sample_arr3.transpose(0, 2, 1))\n",
    "print(sample_arr3.transpose(0, 2, 1).shape)"
   ]
  },
  {
   "cell_type": "markdown",
   "id": "d12f4e1f-f305-407b-b5ac-4e45f29cc424",
   "metadata": {},
   "source": [
    "# 3 参照"
   ]
  },
  {
   "cell_type": "code",
   "execution_count": 13,
   "id": "dbfff4d4-b0d2-4eb5-8327-8ea4098016c2",
   "metadata": {},
   "outputs": [
    {
     "name": "stdout",
     "output_type": "stream",
     "text": [
      "[[1 4 9]\n",
      " [8 1 1]]\n"
     ]
    }
   ],
   "source": [
    "sample_arr4 = np.random.randint(0, 10, (2, 3))\n",
    "print(sample_arr4)"
   ]
  },
  {
   "cell_type": "code",
   "execution_count": 14,
   "id": "5065da5e-6438-4bfd-9b59-2ee9bea0361d",
   "metadata": {},
   "outputs": [
    {
     "name": "stdout",
     "output_type": "stream",
     "text": [
      "index\n",
      "[1 4 9]\n",
      "9\n",
      "[4 9]\n",
      "[9 1]\n"
     ]
    }
   ],
   "source": [
    "print(\"index\")\n",
    "print(sample_arr4[0])\n",
    "print(sample_arr4[0, 2])\n",
    "print(sample_arr4[0, 1:3])\n",
    "print(sample_arr4[:, 2])"
   ]
  },
  {
   "cell_type": "code",
   "execution_count": 15,
   "id": "d8e8ea72-0aa0-4162-be9a-a1a91c545301",
   "metadata": {},
   "outputs": [
    {
     "name": "stdout",
     "output_type": "stream",
     "text": [
      "条件\n",
      "[9 8]\n"
     ]
    }
   ],
   "source": [
    "print(\"条件\")\n",
    "print(sample_arr4[sample_arr4 > 5])"
   ]
  },
  {
   "cell_type": "markdown",
   "id": "ad7330f2-94aa-4df9-a89d-c69a6f1d43ee",
   "metadata": {},
   "source": [
    "# 4 演算"
   ]
  },
  {
   "cell_type": "code",
   "execution_count": 16,
   "id": "24b2fc68-602a-4bfe-899d-57a2021879e3",
   "metadata": {},
   "outputs": [
    {
     "name": "stdout",
     "output_type": "stream",
     "text": [
      "arr_A\n",
      " [[1. 1. 1.]\n",
      " [1. 1. 1.]]\n",
      "arr_B\n",
      " [[2. 2. 2.]\n",
      " [2. 2. 2.]]\n",
      "arr_C\n",
      " [[3. 3.]\n",
      " [3. 3.]\n",
      " [3. 3.]]\n"
     ]
    }
   ],
   "source": [
    "arr_A = np.ones((2, 3))\n",
    "arr_B = np.ones((2, 3)) * 2\n",
    "arr_C = np.ones((3, 2)) * 3\n",
    "print(\"arr_A\\n\", arr_A)\n",
    "print(\"arr_B\\n\", arr_B)\n",
    "print(\"arr_C\\n\", arr_C)"
   ]
  },
  {
   "cell_type": "code",
   "execution_count": 17,
   "id": "2d0b1ad3-513e-433c-b213-487eb28cdbb1",
   "metadata": {},
   "outputs": [
    {
     "name": "stdout",
     "output_type": "stream",
     "text": [
      "四則演算\n",
      "[[3. 3. 3.]\n",
      " [3. 3. 3.]]\n",
      "[[-1. -1. -1.]\n",
      " [-1. -1. -1.]]\n",
      "[[2. 2. 2.]\n",
      " [2. 2. 2.]]\n",
      "[[0.5 0.5 0.5]\n",
      " [0.5 0.5 0.5]]\n",
      "行列の演算\n",
      "[[9. 9.]\n",
      " [9. 9.]]\n"
     ]
    }
   ],
   "source": [
    "print(\"四則演算\")\n",
    "print(arr_A + arr_B)\n",
    "print(arr_A - arr_B)\n",
    "print(arr_A * arr_B)\n",
    "print(arr_A / arr_B)\n",
    "\n",
    "print(\"行列の演算\")\n",
    "print(np.dot(arr_A, arr_C))"
   ]
  },
  {
   "cell_type": "markdown",
   "id": "df64228d-e022-43f8-ac76-c3630860fd9f",
   "metadata": {},
   "source": [
    "# 5 関数とメソッド"
   ]
  },
  {
   "cell_type": "markdown",
   "id": "0d5653ec-3388-4886-b85c-4dc1bbe5283b",
   "metadata": {},
   "source": [
    "## 5.1 関数"
   ]
  },
  {
   "cell_type": "code",
   "execution_count": 18,
   "id": "2356fb02-242d-443d-b505-d62b333e3b33",
   "metadata": {},
   "outputs": [
    {
     "name": "stdout",
     "output_type": "stream",
     "text": [
      "[[4 2 2]\n",
      " [4 3 4]]\n"
     ]
    }
   ],
   "source": [
    "sample_arr5 = np.random.randint(1, 5, (2, 3))\n",
    "print(sample_arr5)"
   ]
  },
  {
   "cell_type": "code",
   "execution_count": 19,
   "id": "00e83aa0-688f-47ed-b2c5-bf3b84ce1458",
   "metadata": {},
   "outputs": [
    {
     "name": "stdout",
     "output_type": "stream",
     "text": [
      "数学の関数\n",
      "[[2.         1.41421356 1.41421356]\n",
      " [2.         1.73205081 2.        ]]\n",
      "[[1.38629436 0.69314718 0.69314718]\n",
      " [1.38629436 1.09861229 1.38629436]]\n",
      "[[54.59815003  7.3890561   7.3890561 ]\n",
      " [54.59815003 20.08553692 54.59815003]]\n",
      "[[16  4  4]\n",
      " [16  9 16]]\n"
     ]
    }
   ],
   "source": [
    "print(\"数学の関数\")\n",
    "print(np.sqrt(sample_arr5))\n",
    "print(np.log(sample_arr5))\n",
    "print(np.exp(sample_arr5))\n",
    "print(np.power(sample_arr5, 2))"
   ]
  },
  {
   "cell_type": "code",
   "execution_count": 20,
   "id": "26310851-4f7f-4903-86bb-844fa89206da",
   "metadata": {},
   "outputs": [
    {
     "name": "stdout",
     "output_type": "stream",
     "text": [
      "統計量に関する関数\n",
      "3.1666666666666665\n",
      "[4.  2.5 3. ]\n",
      "[2.66666667 3.66666667]\n",
      "0.8975274678557507\n",
      "19\n",
      "3.5\n"
     ]
    }
   ],
   "source": [
    "print(\"統計量に関する関数\")\n",
    "print(np.mean(sample_arr5))\n",
    "print(np.mean(sample_arr5, axis=0))\n",
    "print(np.mean(sample_arr5, axis=1))\n",
    "print(np.std(sample_arr5))\n",
    "print(np.sum(sample_arr5))\n",
    "print(np.median(sample_arr5))"
   ]
  },
  {
   "cell_type": "code",
   "execution_count": 21,
   "id": "0e922ff9-5e0c-45f3-aad2-01311ac4dc8b",
   "metadata": {},
   "outputs": [
    {
     "name": "stdout",
     "output_type": "stream",
     "text": [
      "最小値と最大値\n",
      "2\n",
      "4\n"
     ]
    }
   ],
   "source": [
    "print(\"最小値と最大値\")\n",
    "print(np.min(sample_arr5))\n",
    "print(np.max(sample_arr5))"
   ]
  },
  {
   "cell_type": "code",
   "execution_count": 22,
   "id": "46d83afc-f744-4e31-9afe-caae831632fe",
   "metadata": {},
   "outputs": [
    {
     "name": "stdout",
     "output_type": "stream",
     "text": [
      "最小値と最大値のインデックス\n",
      "1\n",
      "0\n"
     ]
    }
   ],
   "source": [
    "print(\"最小値と最大値のインデックス\")\n",
    "print(np.argmin(sample_arr5))\n",
    "print(np.argmax(sample_arr5))"
   ]
  },
  {
   "cell_type": "code",
   "execution_count": 23,
   "id": "e7e2d34f-9f95-4c04-b7d6-27e006994dd3",
   "metadata": {},
   "outputs": [
    {
     "name": "stdout",
     "output_type": "stream",
     "text": [
      "特殊な関数\n",
      "[2 3 4]\n",
      "[[2 2 4]\n",
      " [3 4 4]]\n"
     ]
    }
   ],
   "source": [
    "print(\"特殊な関数\")\n",
    "print(np.unique(sample_arr5))\n",
    "print(np.sort(sample_arr5))"
   ]
  },
  {
   "cell_type": "markdown",
   "id": "13dee059-fa87-4402-a6d2-0bc90bafde02",
   "metadata": {},
   "source": [
    "## 5.2 メソッド"
   ]
  },
  {
   "cell_type": "code",
   "execution_count": 24,
   "id": "8ca47c53-d187-428b-be47-2229888e2192",
   "metadata": {},
   "outputs": [
    {
     "name": "stdout",
     "output_type": "stream",
     "text": [
      "統計量に関する関数\n",
      "3.1666666666666665\n",
      "[4.  2.5 3. ]\n",
      "[2.66666667 3.66666667]\n",
      "0.8975274678557507\n",
      "19\n"
     ]
    }
   ],
   "source": [
    "print(\"統計量に関する関数\")\n",
    "print(sample_arr5.mean())\n",
    "print(sample_arr5.mean(axis=0))\n",
    "print(sample_arr5.mean(axis=1))\n",
    "print(sample_arr5.std())\n",
    "print(sample_arr5.sum())"
   ]
  },
  {
   "cell_type": "code",
   "execution_count": 25,
   "id": "004c4aa1-ea0b-4630-97d4-8fd2975368a4",
   "metadata": {},
   "outputs": [
    {
     "name": "stdout",
     "output_type": "stream",
     "text": [
      "最小値と最大値\n",
      "2\n",
      "4\n",
      "1\n",
      "0\n"
     ]
    }
   ],
   "source": [
    "print(\"最小値と最大値\")\n",
    "print(sample_arr5.min())\n",
    "print(sample_arr5.max())\n",
    "print(sample_arr5.argmin())\n",
    "print(sample_arr5.argmax())"
   ]
  },
  {
   "cell_type": "code",
   "execution_count": 26,
   "id": "82358558-3d58-4f95-bfae-232f3688ab8c",
   "metadata": {},
   "outputs": [
    {
     "name": "stdout",
     "output_type": "stream",
     "text": [
      "特殊な関数\n",
      "[[2 2 4]\n",
      " [3 4 4]]\n"
     ]
    }
   ],
   "source": [
    "print(\"特殊な関数\")\n",
    "sample_arr5.sort()\n",
    "print(sample_arr5)"
   ]
  },
  {
   "cell_type": "code",
   "execution_count": null,
   "id": "0f37bb21-2bd6-40d8-9247-5f4b569dfae6",
   "metadata": {},
   "outputs": [],
   "source": []
  }
 ],
 "metadata": {
  "celltoolbar": "Slideshow",
  "kernelspec": {
   "display_name": "Python 3 (ipykernel)",
   "language": "python",
   "name": "python3"
  },
  "language_info": {
   "codemirror_mode": {
    "name": "ipython",
    "version": 3
   },
   "file_extension": ".py",
   "mimetype": "text/x-python",
   "name": "python",
   "nbconvert_exporter": "python",
   "pygments_lexer": "ipython3",
   "version": "3.9.12"
  }
 },
 "nbformat": 4,
 "nbformat_minor": 5
}

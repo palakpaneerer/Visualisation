{
 "cells": [
  {
   "cell_type": "markdown",
   "id": "fb53c947-6be9-4db5-b65b-2d34c357fb3b",
   "metadata": {},
   "source": [
    "# 1 Series"
   ]
  },
  {
   "cell_type": "code",
   "execution_count": 1,
   "id": "6f6c36dd-43ff-4771-8e31-c144aa598354",
   "metadata": {},
   "outputs": [],
   "source": [
    "import numpy as np\n",
    "import pandas as pd\n",
    "np.random.seed(1)"
   ]
  },
  {
   "cell_type": "markdown",
   "id": "765316db-0875-4a67-8c43-21e7d10ca138",
   "metadata": {},
   "source": [
    "## 1.1 Seriesの作成"
   ]
  },
  {
   "cell_type": "code",
   "execution_count": 2,
   "id": "5223e91b-eb9b-4126-b78b-5e157025cffb",
   "metadata": {},
   "outputs": [],
   "source": [
    "sample_arr = np.random.randint(1, 10, 4)\n",
    "sample_list = [1, 2, \"a\", \"b\"]\n",
    "sample_series1 = pd.Series(sample_arr)\n",
    "sample_series2 = pd.Series(sample_list)"
   ]
  },
  {
   "cell_type": "code",
   "execution_count": 3,
   "id": "06743bd0-9669-4567-b198-3644bd08570b",
   "metadata": {},
   "outputs": [
    {
     "name": "stdout",
     "output_type": "stream",
     "text": [
      "0    6\n",
      "1    9\n",
      "2    6\n",
      "3    1\n",
      "dtype: int64\n"
     ]
    }
   ],
   "source": [
    "print(sample_series1)"
   ]
  },
  {
   "cell_type": "code",
   "execution_count": 4,
   "id": "7dd5d4f8-209b-4aae-9ef0-0be6590a70e0",
   "metadata": {},
   "outputs": [
    {
     "name": "stdout",
     "output_type": "stream",
     "text": [
      "0    1\n",
      "1    2\n",
      "2    a\n",
      "3    b\n",
      "dtype: object\n"
     ]
    }
   ],
   "source": [
    "print(sample_series2)"
   ]
  },
  {
   "cell_type": "code",
   "execution_count": 5,
   "id": "72cc22ad-b4ff-41fb-b42e-37c2dd2b9da6",
   "metadata": {},
   "outputs": [
    {
     "name": "stdout",
     "output_type": "stream",
     "text": [
      "<class 'pandas.core.series.Series'>\n"
     ]
    }
   ],
   "source": [
    "print(type(sample_series1))"
   ]
  },
  {
   "cell_type": "markdown",
   "id": "2f73f49d-01cc-4cc2-af6e-da70387bfe90",
   "metadata": {},
   "source": [
    "## 1.2 Seriesの構成要素"
   ]
  },
  {
   "cell_type": "code",
   "execution_count": 6,
   "id": "54c4e56a-3217-4ff2-98bc-690cfe4f7046",
   "metadata": {},
   "outputs": [
    {
     "name": "stdout",
     "output_type": "stream",
     "text": [
      "0    6\n",
      "1    9\n",
      "2    6\n",
      "3    1\n",
      "dtype: int64\n"
     ]
    }
   ],
   "source": [
    "print(sample_series1)"
   ]
  },
  {
   "cell_type": "code",
   "execution_count": 7,
   "id": "8af20fc8-699b-4b31-9e1b-ab733dde9f3d",
   "metadata": {},
   "outputs": [
    {
     "name": "stdout",
     "output_type": "stream",
     "text": [
      "index\n",
      "RangeIndex(start=0, stop=4, step=1)\n"
     ]
    }
   ],
   "source": [
    "print(\"index\")\n",
    "print(sample_series1.index)"
   ]
  },
  {
   "cell_type": "code",
   "execution_count": 8,
   "id": "12fb443f-854a-4e67-9d54-96dcea0ea492",
   "metadata": {},
   "outputs": [
    {
     "name": "stdout",
     "output_type": "stream",
     "text": [
      "a    6\n",
      "b    9\n",
      "c    6\n",
      "d    1\n",
      "dtype: int64\n",
      "Index(['a', 'b', 'c', 'd'], dtype='object')\n"
     ]
    }
   ],
   "source": [
    "sample_series1.index = [\"a\", \"b\", \"c\", \"d\"]\n",
    "print(sample_series1)\n",
    "print(sample_series1.index)"
   ]
  },
  {
   "cell_type": "code",
   "execution_count": 9,
   "id": "ae4489f2-d995-422f-9374-51e3ab401292",
   "metadata": {},
   "outputs": [
    {
     "name": "stdout",
     "output_type": "stream",
     "text": [
      "values\n",
      "[6 9 6 1] <class 'numpy.ndarray'>\n"
     ]
    }
   ],
   "source": [
    "print(\"values\")\n",
    "print(sample_series1.values, type(sample_series1.values))"
   ]
  },
  {
   "cell_type": "code",
   "execution_count": 10,
   "id": "41f4154c-74f6-48d1-8a4b-e018467ea834",
   "metadata": {},
   "outputs": [
    {
     "name": "stdout",
     "output_type": "stream",
     "text": [
      "dtype\n",
      "int64\n",
      "object\n"
     ]
    }
   ],
   "source": [
    "print(\"dtype\")\n",
    "print(sample_series1.dtype)\n",
    "print(sample_series2.dtype)"
   ]
  },
  {
   "cell_type": "code",
   "execution_count": 11,
   "id": "d9c7385e-7c5b-4130-afe3-ee4ae1283363",
   "metadata": {},
   "outputs": [
    {
     "name": "stdout",
     "output_type": "stream",
     "text": [
      "a    6.0\n",
      "b    9.0\n",
      "c    6.0\n",
      "d    1.0\n",
      "dtype: float64\n"
     ]
    }
   ],
   "source": [
    "print(sample_series1.astype(float))"
   ]
  },
  {
   "cell_type": "code",
   "execution_count": 12,
   "id": "47476f3e-064b-41b5-9a47-ce0c584c1644",
   "metadata": {},
   "outputs": [
    {
     "name": "stdout",
     "output_type": "stream",
     "text": [
      "name\n",
      "None <class 'NoneType'>\n"
     ]
    }
   ],
   "source": [
    "print(\"name\")\n",
    "print(sample_series1.name, type(sample_series1.name))"
   ]
  },
  {
   "cell_type": "code",
   "execution_count": 13,
   "id": "9ea663d4-3d67-44ca-980d-fa412a6588e1",
   "metadata": {},
   "outputs": [
    {
     "name": "stdout",
     "output_type": "stream",
     "text": [
      "a    6\n",
      "b    9\n",
      "c    6\n",
      "d    1\n",
      "Name: Hello, dtype: int64\n"
     ]
    }
   ],
   "source": [
    "sample_series1.name = \"Hello\"\n",
    "print(sample_series1)"
   ]
  },
  {
   "cell_type": "code",
   "execution_count": 14,
   "id": "4a5b3036-f5c1-45f4-9b0a-3640cff7f493",
   "metadata": {},
   "outputs": [
    {
     "name": "stdout",
     "output_type": "stream",
     "text": [
      "Hello\n"
     ]
    }
   ],
   "source": [
    "print(sample_series1.name)"
   ]
  },
  {
   "cell_type": "markdown",
   "id": "c757d758-2073-44a3-9fe8-19c0c8b741a2",
   "metadata": {},
   "source": [
    "## 1.3 演算と関数"
   ]
  },
  {
   "cell_type": "code",
   "execution_count": 15,
   "id": "e0a6e7f8-d020-4543-9550-31f6c36cc8f1",
   "metadata": {
    "tags": []
   },
   "outputs": [
    {
     "name": "stdout",
     "output_type": "stream",
     "text": [
      "sample_series3\n",
      " 0    1\n",
      "1    2\n",
      "2    8\n",
      "3    7\n",
      "dtype: int64\n",
      "\n",
      "sample_series4\n",
      " 0    3\n",
      "1    5\n",
      "2    6\n",
      "3    3\n",
      "dtype: int64\n"
     ]
    }
   ],
   "source": [
    "sample_series3 = pd.Series(np.random.randint(1, 10, 4))\n",
    "sample_series4 = pd.Series(np.random.randint(1, 10, 4))\n",
    "\n",
    "print(\"sample_series3\\n\", sample_series3)\n",
    "print(\"\\nsample_series4\\n\", sample_series4)"
   ]
  },
  {
   "cell_type": "code",
   "execution_count": 16,
   "id": "c4680c02-3d6f-4d15-9c16-67571dcaaece",
   "metadata": {},
   "outputs": [
    {
     "name": "stdout",
     "output_type": "stream",
     "text": [
      "数学の関数\n",
      "0    1.000000\n",
      "1    1.414214\n",
      "2    2.828427\n",
      "3    2.645751\n",
      "dtype: float64\n",
      "0    0.000000\n",
      "1    0.693147\n",
      "2    2.079442\n",
      "3    1.945910\n",
      "dtype: float64\n",
      "0     1\n",
      "1     4\n",
      "2    64\n",
      "3    49\n",
      "dtype: int64\n"
     ]
    }
   ],
   "source": [
    "print(\"数学の関数\")\n",
    "print(np.sqrt(sample_series3))\n",
    "print(np.log(sample_series3))\n",
    "print(np.power(sample_series3, 2))"
   ]
  },
  {
   "cell_type": "code",
   "execution_count": 17,
   "id": "041d6abb-3d7f-4b53-b0d3-40125a0490a6",
   "metadata": {},
   "outputs": [
    {
     "name": "stdout",
     "output_type": "stream",
     "text": [
      "四則演算\n",
      "0     4\n",
      "1     7\n",
      "2    14\n",
      "3    10\n",
      "dtype: int64\n",
      "0   -2\n",
      "1   -3\n",
      "2    2\n",
      "3    4\n",
      "dtype: int64\n",
      "0     3\n",
      "1    10\n",
      "2    48\n",
      "3    21\n",
      "dtype: int64\n",
      "0    0.333333\n",
      "1    0.400000\n",
      "2    1.333333\n",
      "3    2.333333\n",
      "dtype: float64\n"
     ]
    }
   ],
   "source": [
    "print(\"四則演算\")\n",
    "print(sample_series3 + sample_series4)\n",
    "print(sample_series3 - sample_series4)\n",
    "print(sample_series3 * sample_series4)\n",
    "print(sample_series3 / sample_series4)"
   ]
  },
  {
   "cell_type": "code",
   "execution_count": 18,
   "id": "aeee308e-1c99-4a92-81ef-0c117bc46880",
   "metadata": {},
   "outputs": [
    {
     "name": "stdout",
     "output_type": "stream",
     "text": [
      "統計量に関する関数\n",
      "4.5\n",
      "3.0413812651491097\n",
      "18\n",
      "4.5\n",
      "\n",
      "最小値と最大値\n",
      "1\n",
      "8\n",
      "\n",
      "最小値と最大値のインデックス\n",
      "0\n",
      "2\n"
     ]
    }
   ],
   "source": [
    "print(\"統計量に関する関数\")\n",
    "print(np.mean(sample_series3))\n",
    "print(np.std(sample_series3))\n",
    "print(np.sum(sample_series3))\n",
    "print(np.median(sample_series3))\n",
    "\n",
    "print(\"\\n最小値と最大値\")\n",
    "print(np.min(sample_series3))\n",
    "print(np.max(sample_series3))\n",
    "\n",
    "print(\"\\n最小値と最大値のインデックス\")\n",
    "print(np.argmin(sample_series3))\n",
    "print(np.argmax(sample_series3))"
   ]
  },
  {
   "cell_type": "code",
   "execution_count": 19,
   "id": "f1211375-1c87-4f29-b860-990dfa64c7d9",
   "metadata": {},
   "outputs": [
    {
     "name": "stdout",
     "output_type": "stream",
     "text": [
      "特殊な関数\n",
      "[1 2 7 8]\n",
      "[1 2 7 8]\n"
     ]
    }
   ],
   "source": [
    "print(\"特殊な関数\")\n",
    "print(np.unique(sample_series3))\n",
    "print(np.sort(sample_series3))"
   ]
  },
  {
   "cell_type": "markdown",
   "id": "1250e7ff-1627-425f-994d-9bcbb2e853c3",
   "metadata": {},
   "source": [
    "# 2 DataFrame"
   ]
  },
  {
   "cell_type": "markdown",
   "id": "2f9db0c9-aa0d-460e-a6fd-01d939d4d67e",
   "metadata": {},
   "source": [
    "## 2.1 DataFrameの作成"
   ]
  },
  {
   "cell_type": "code",
   "execution_count": 20,
   "id": "0d827436-90b3-4b22-bc84-5f91bfd18e25",
   "metadata": {},
   "outputs": [
    {
     "name": "stdout",
     "output_type": "stream",
     "text": [
      "   StudentID  Japanese  Math\n",
      "0         10        85    15\n",
      "1         11        12    51\n",
      "2         12        29    69\n",
      "3         13        30    88\n",
      "<class 'pandas.core.frame.DataFrame'>\n"
     ]
    }
   ],
   "source": [
    "sample_dict = {\"StudentID\" : np.arange(10, 14),\n",
    "               \"Japanese\" : np.random.randint(1, 100, 4),\n",
    "               \"Math\" : np.random.randint(1, 100, 4)}\n",
    "sample_df = pd.DataFrame(sample_dict)\n",
    "print(sample_df)\n",
    "print(type(sample_df))"
   ]
  },
  {
   "cell_type": "markdown",
   "id": "7f87d773-7d1e-4c87-a4fe-3636faa2e7a1",
   "metadata": {},
   "source": [
    "## 2.2 DataFrameの構成要素"
   ]
  },
  {
   "cell_type": "code",
   "execution_count": 21,
   "id": "d4d83d3c-a301-41f7-8d48-a2c05cf33441",
   "metadata": {},
   "outputs": [
    {
     "data": {
      "text/html": [
       "<div>\n",
       "<style scoped>\n",
       "    .dataframe tbody tr th:only-of-type {\n",
       "        vertical-align: middle;\n",
       "    }\n",
       "\n",
       "    .dataframe tbody tr th {\n",
       "        vertical-align: top;\n",
       "    }\n",
       "\n",
       "    .dataframe thead th {\n",
       "        text-align: right;\n",
       "    }\n",
       "</style>\n",
       "<table border=\"1\" class=\"dataframe\">\n",
       "  <thead>\n",
       "    <tr style=\"text-align: right;\">\n",
       "      <th></th>\n",
       "      <th>StudentID</th>\n",
       "      <th>Japanese</th>\n",
       "      <th>Math</th>\n",
       "    </tr>\n",
       "  </thead>\n",
       "  <tbody>\n",
       "    <tr>\n",
       "      <th>0</th>\n",
       "      <td>10</td>\n",
       "      <td>85</td>\n",
       "      <td>15</td>\n",
       "    </tr>\n",
       "    <tr>\n",
       "      <th>1</th>\n",
       "      <td>11</td>\n",
       "      <td>12</td>\n",
       "      <td>51</td>\n",
       "    </tr>\n",
       "    <tr>\n",
       "      <th>2</th>\n",
       "      <td>12</td>\n",
       "      <td>29</td>\n",
       "      <td>69</td>\n",
       "    </tr>\n",
       "    <tr>\n",
       "      <th>3</th>\n",
       "      <td>13</td>\n",
       "      <td>30</td>\n",
       "      <td>88</td>\n",
       "    </tr>\n",
       "  </tbody>\n",
       "</table>\n",
       "</div>"
      ],
      "text/plain": [
       "   StudentID  Japanese  Math\n",
       "0         10        85    15\n",
       "1         11        12    51\n",
       "2         12        29    69\n",
       "3         13        30    88"
      ]
     },
     "execution_count": 21,
     "metadata": {},
     "output_type": "execute_result"
    }
   ],
   "source": [
    "sample_df"
   ]
  },
  {
   "cell_type": "code",
   "execution_count": 22,
   "id": "ac3a0b9e-eb0d-4714-ad58-164eba2af583",
   "metadata": {},
   "outputs": [
    {
     "name": "stdout",
     "output_type": "stream",
     "text": [
      "RangeIndex(start=0, stop=4, step=1)\n"
     ]
    }
   ],
   "source": [
    "print(sample_df.index)"
   ]
  },
  {
   "cell_type": "code",
   "execution_count": 23,
   "id": "fb5a340f-fad1-47ed-93ed-6a470712ec58",
   "metadata": {},
   "outputs": [
    {
     "name": "stdout",
     "output_type": "stream",
     "text": [
      "Index(['StudentID', 'Japanese', 'Math'], dtype='object')\n"
     ]
    }
   ],
   "source": [
    "print(sample_df.columns)"
   ]
  },
  {
   "cell_type": "code",
   "execution_count": 24,
   "id": "96abea65-daeb-4ab4-9d0d-5cf4a0178a50",
   "metadata": {},
   "outputs": [
    {
     "name": "stdout",
     "output_type": "stream",
     "text": [
      "[[10 85 15]\n",
      " [11 12 51]\n",
      " [12 29 69]\n",
      " [13 30 88]]\n"
     ]
    }
   ],
   "source": [
    "print(sample_df.values)"
   ]
  },
  {
   "cell_type": "code",
   "execution_count": 25,
   "id": "414ddc56-1e27-4259-b4e0-6afc10812079",
   "metadata": {},
   "outputs": [
    {
     "name": "stdout",
     "output_type": "stream",
     "text": [
      "StudentID    int64\n",
      "Japanese     int64\n",
      "Math         int64\n",
      "dtype: object\n"
     ]
    }
   ],
   "source": [
    "print(sample_df.dtypes)"
   ]
  },
  {
   "cell_type": "markdown",
   "id": "8d357d73-8dbd-4b76-ab32-6c914acedaef",
   "metadata": {},
   "source": [
    "## 2.3 参照"
   ]
  },
  {
   "cell_type": "code",
   "execution_count": 26,
   "id": "0bfaf754-0f87-4636-9559-6972a2f48bdb",
   "metadata": {},
   "outputs": [
    {
     "data": {
      "text/html": [
       "<div>\n",
       "<style scoped>\n",
       "    .dataframe tbody tr th:only-of-type {\n",
       "        vertical-align: middle;\n",
       "    }\n",
       "\n",
       "    .dataframe tbody tr th {\n",
       "        vertical-align: top;\n",
       "    }\n",
       "\n",
       "    .dataframe thead th {\n",
       "        text-align: right;\n",
       "    }\n",
       "</style>\n",
       "<table border=\"1\" class=\"dataframe\">\n",
       "  <thead>\n",
       "    <tr style=\"text-align: right;\">\n",
       "      <th></th>\n",
       "      <th>StudentID</th>\n",
       "      <th>Japanese</th>\n",
       "      <th>Math</th>\n",
       "    </tr>\n",
       "  </thead>\n",
       "  <tbody>\n",
       "    <tr>\n",
       "      <th>0</th>\n",
       "      <td>10</td>\n",
       "      <td>85</td>\n",
       "      <td>15</td>\n",
       "    </tr>\n",
       "    <tr>\n",
       "      <th>1</th>\n",
       "      <td>11</td>\n",
       "      <td>12</td>\n",
       "      <td>51</td>\n",
       "    </tr>\n",
       "    <tr>\n",
       "      <th>2</th>\n",
       "      <td>12</td>\n",
       "      <td>29</td>\n",
       "      <td>69</td>\n",
       "    </tr>\n",
       "  </tbody>\n",
       "</table>\n",
       "</div>"
      ],
      "text/plain": [
       "   StudentID  Japanese  Math\n",
       "0         10        85    15\n",
       "1         11        12    51\n",
       "2         12        29    69"
      ]
     },
     "execution_count": 26,
     "metadata": {},
     "output_type": "execute_result"
    }
   ],
   "source": [
    "sample_df.head(3)"
   ]
  },
  {
   "cell_type": "code",
   "execution_count": 27,
   "id": "13c98c80-d0f0-461b-8185-13157a5cfeac",
   "metadata": {},
   "outputs": [
    {
     "name": "stdout",
     "output_type": "stream",
     "text": [
      "0    10\n",
      "1    11\n",
      "2    12\n",
      "3    13\n",
      "Name: StudentID, dtype: int64\n",
      "0    10\n",
      "1    11\n",
      "2    12\n",
      "3    13\n",
      "Name: StudentID, dtype: int64\n"
     ]
    }
   ],
   "source": [
    "print(sample_df[\"StudentID\"])\n",
    "print(sample_df.StudentID)"
   ]
  },
  {
   "cell_type": "code",
   "execution_count": 28,
   "id": "21cef2be-1642-4042-9e64-c3a1c3f4e388",
   "metadata": {},
   "outputs": [
    {
     "name": "stdout",
     "output_type": "stream",
     "text": [
      "StudentID    11\n",
      "Japanese     12\n",
      "Math         51\n",
      "Name: 1, dtype: int64\n"
     ]
    }
   ],
   "source": [
    "print(sample_df.loc[1]) # 行指定"
   ]
  },
  {
   "cell_type": "code",
   "execution_count": 29,
   "id": "50d55ca7-e9bd-445c-8aaf-c1b20bf321f9",
   "metadata": {},
   "outputs": [
    {
     "name": "stdout",
     "output_type": "stream",
     "text": [
      "11\n"
     ]
    }
   ],
   "source": [
    "print(sample_df.loc[1, \"StudentID\"]) # 行、列指定"
   ]
  },
  {
   "cell_type": "code",
   "execution_count": 30,
   "id": "6335103e-7f8d-4362-9c65-c535090780c7",
   "metadata": {},
   "outputs": [
    {
     "name": "stdout",
     "output_type": "stream",
     "text": [
      "Japanese    12\n",
      "Math        51\n",
      "Name: 1, dtype: int64\n"
     ]
    }
   ],
   "source": [
    "print(sample_df.loc[1, [\"Japanese\", \"Math\"]]) # 複数列指定"
   ]
  },
  {
   "cell_type": "code",
   "execution_count": 31,
   "id": "3a553e2b-e946-4995-a1d4-1b3dd9842e6c",
   "metadata": {},
   "outputs": [
    {
     "name": "stdout",
     "output_type": "stream",
     "text": [
      "51\n"
     ]
    }
   ],
   "source": [
    "print(sample_df.iloc[1, 2]) #　数値で指定"
   ]
  },
  {
   "cell_type": "code",
   "execution_count": 32,
   "id": "beff3d7e-398b-4ded-954e-b034c26565bf",
   "metadata": {},
   "outputs": [
    {
     "name": "stdout",
     "output_type": "stream",
     "text": [
      "Japanese    12\n",
      "Math        51\n",
      "Name: 1, dtype: int64\n"
     ]
    }
   ],
   "source": [
    "print(sample_df.iloc[1, 1:3]) #スライス"
   ]
  },
  {
   "cell_type": "code",
   "execution_count": 33,
   "id": "44672448-331c-4355-a048-0398efd12bfc",
   "metadata": {},
   "outputs": [
    {
     "name": "stdout",
     "output_type": "stream",
     "text": [
      "   StudentID  Japanese  Math\n",
      "0         10        85    15\n"
     ]
    }
   ],
   "source": [
    "print(sample_df[sample_df[\"Japanese\"] > 50]) # 条件で指定"
   ]
  },
  {
   "cell_type": "code",
   "execution_count": 34,
   "id": "60c4617c-d258-453e-9a78-b23d0d340c88",
   "metadata": {},
   "outputs": [
    {
     "name": "stdout",
     "output_type": "stream",
     "text": [
      "0    15\n",
      "Name: Math, dtype: int64\n"
     ]
    }
   ],
   "source": [
    "print(sample_df.loc[sample_df[\"Japanese\"] > 50, \"Math\"]) # 条件、列指定"
   ]
  },
  {
   "cell_type": "markdown",
   "id": "f8360711-8d00-455b-8c55-fa22da1fc09f",
   "metadata": {},
   "source": [
    "## 2.4 代入と変更"
   ]
  },
  {
   "cell_type": "code",
   "execution_count": 35,
   "id": "023c1258-ea17-4a9c-824d-7dba4793b36f",
   "metadata": {},
   "outputs": [
    {
     "name": "stdout",
     "output_type": "stream",
     "text": [
      "行の指定\n",
      "   StudentID  Japanese  Math\n",
      "0          0         0     0\n",
      "1         11        12    51\n",
      "2         12        29    69\n",
      "3         13        30    88\n",
      "   StudentID  Japanese  Math\n",
      "0          1         2     3\n",
      "1         11        12    51\n",
      "2         12        29    69\n",
      "3         13        30    88\n"
     ]
    }
   ],
   "source": [
    "print(\"行の指定\")\n",
    "sample_df.loc[0] = 0\n",
    "print(sample_df)\n",
    "sample_df.loc[0] = [1, 2, 3]\n",
    "print(sample_df)"
   ]
  },
  {
   "cell_type": "code",
   "execution_count": 36,
   "id": "8fdb7b8c-d9d5-48db-82db-325cac8721d2",
   "metadata": {},
   "outputs": [
    {
     "name": "stdout",
     "output_type": "stream",
     "text": [
      "列の指定\n",
      "   StudentID  Japanese  Math\n",
      "0          1         2    -1\n",
      "1         11        12    -1\n",
      "2         12        29    -1\n",
      "3         13        30    -1\n",
      "   StudentID  Japanese  Math\n",
      "0          1         2     0\n",
      "1         11        12     1\n",
      "2         12        29     2\n",
      "3         13        30     3\n"
     ]
    }
   ],
   "source": [
    "print(\"列の指定\")\n",
    "sample_df.Math = -1\n",
    "print(sample_df)\n",
    "sample_df[\"Math\"] = np.arange(4)\n",
    "print(sample_df)"
   ]
  },
  {
   "cell_type": "code",
   "execution_count": 37,
   "id": "6f102d78-2f9b-42ca-9e71-7b0b22dde281",
   "metadata": {},
   "outputs": [
    {
     "name": "stdout",
     "output_type": "stream",
     "text": [
      "条件の指定\n",
      "   StudentID  Japanese  Math\n",
      "0          1         2     0\n",
      "1         11        12     1\n",
      "2        100       100   100\n",
      "3        100       100   100\n",
      "   StudentID  Japanese  Math\n",
      "0          1         2     0\n",
      "1         11        12     1\n",
      "2        100       100  -100\n",
      "3        100       100  -100\n"
     ]
    }
   ],
   "source": [
    "print(\"条件の指定\")\n",
    "sample_df[sample_df[\"Japanese\"] > 15] = 100\n",
    "print(sample_df)\n",
    "sample_df.loc[sample_df[\"Japanese\"] > 15, \"Math\"] = -100\n",
    "print(sample_df)"
   ]
  },
  {
   "cell_type": "code",
   "execution_count": 38,
   "id": "6bd003b3-2849-4a03-bdbc-d1f65f6f7f9b",
   "metadata": {},
   "outputs": [
    {
     "name": "stdout",
     "output_type": "stream",
     "text": [
      "列の追加\n",
      "   StudentID  Japanese  Math  English\n",
      "0          1         2     0       88\n",
      "1         11        12     1       95\n",
      "2        100       100  -100       97\n",
      "3        100       100  -100       87\n"
     ]
    }
   ],
   "source": [
    "print(\"列の追加\")\n",
    "sample_df[\"English\"] = np.random.randint(1, 100, 4)\n",
    "print(sample_df)"
   ]
  },
  {
   "cell_type": "markdown",
   "id": "bb33b10f-3a75-40db-b3e6-64c1b74fc204",
   "metadata": {},
   "source": [
    "## 2.5 関数"
   ]
  },
  {
   "cell_type": "code",
   "execution_count": 39,
   "id": "5a30e602-23b4-4597-ad35-23138a52f94d",
   "metadata": {},
   "outputs": [
    {
     "data": {
      "text/html": [
       "<div>\n",
       "<style scoped>\n",
       "    .dataframe tbody tr th:only-of-type {\n",
       "        vertical-align: middle;\n",
       "    }\n",
       "\n",
       "    .dataframe tbody tr th {\n",
       "        vertical-align: top;\n",
       "    }\n",
       "\n",
       "    .dataframe thead th {\n",
       "        text-align: right;\n",
       "    }\n",
       "</style>\n",
       "<table border=\"1\" class=\"dataframe\">\n",
       "  <thead>\n",
       "    <tr style=\"text-align: right;\">\n",
       "      <th></th>\n",
       "      <th>StudentID</th>\n",
       "      <th>Japanese</th>\n",
       "      <th>Math</th>\n",
       "    </tr>\n",
       "  </thead>\n",
       "  <tbody>\n",
       "    <tr>\n",
       "      <th>0</th>\n",
       "      <td>10</td>\n",
       "      <td>14</td>\n",
       "      <td>62</td>\n",
       "    </tr>\n",
       "    <tr>\n",
       "      <th>1</th>\n",
       "      <td>11</td>\n",
       "      <td>10</td>\n",
       "      <td>23</td>\n",
       "    </tr>\n",
       "    <tr>\n",
       "      <th>2</th>\n",
       "      <td>12</td>\n",
       "      <td>8</td>\n",
       "      <td>58</td>\n",
       "    </tr>\n",
       "    <tr>\n",
       "      <th>3</th>\n",
       "      <td>13</td>\n",
       "      <td>64</td>\n",
       "      <td>2</td>\n",
       "    </tr>\n",
       "  </tbody>\n",
       "</table>\n",
       "</div>"
      ],
      "text/plain": [
       "   StudentID  Japanese  Math\n",
       "0         10        14    62\n",
       "1         11        10    23\n",
       "2         12         8    58\n",
       "3         13        64     2"
      ]
     },
     "execution_count": 39,
     "metadata": {},
     "output_type": "execute_result"
    }
   ],
   "source": [
    "sample_dict = {\"StudentID\" : np.arange(10, 14),\n",
    "               \"Japanese\" : np.random.randint(1, 100, 4),\n",
    "               \"Math\" : np.random.randint(1, 100, 4)}\n",
    "sample_df = pd.DataFrame(sample_dict)\n",
    "sample_df"
   ]
  },
  {
   "cell_type": "code",
   "execution_count": 40,
   "id": "9825d577-2244-49cf-8c60-ee1c11c341ff",
   "metadata": {},
   "outputs": [
    {
     "name": "stdout",
     "output_type": "stream",
     "text": [
      "   StudentID  Japanese      Math\n",
      "0   2.302585  2.639057  4.127134\n",
      "1   2.397895  2.302585  3.135494\n",
      "2   2.484907  2.079442  4.060443\n",
      "3   2.564949  4.158883  0.693147\n"
     ]
    }
   ],
   "source": [
    "print(np.log(sample_df)) # 全ての値に対して"
   ]
  },
  {
   "cell_type": "code",
   "execution_count": 41,
   "id": "64556f76-80c6-4ce7-8e06-267a57b022cc",
   "metadata": {},
   "outputs": [
    {
     "name": "stdout",
     "output_type": "stream",
     "text": [
      "StudentID    2.397895\n",
      "Japanese     2.302585\n",
      "Math         3.135494\n",
      "Name: 1, dtype: float64\n"
     ]
    }
   ],
   "source": [
    "print(np.log(sample_df.loc[1])) # 指定した行に対して"
   ]
  },
  {
   "cell_type": "code",
   "execution_count": 42,
   "id": "027ad984-1aec-4b9a-86b1-a75ec6729340",
   "metadata": {},
   "outputs": [
    {
     "name": "stdout",
     "output_type": "stream",
     "text": [
      "0    4.127134\n",
      "1    3.135494\n",
      "2    4.060443\n",
      "3    0.693147\n",
      "Name: Math, dtype: float64\n"
     ]
    }
   ],
   "source": [
    "print(np.log(sample_df[\"Math\"])) # 指定した列に対して"
   ]
  },
  {
   "cell_type": "code",
   "execution_count": 43,
   "id": "09e8bc89-4f0c-4dfd-ac3c-27b03f584320",
   "metadata": {},
   "outputs": [
    {
     "data": {
      "text/plain": [
       "StudentID    13\n",
       "Japanese     64\n",
       "Math         62\n",
       "dtype: int64"
      ]
     },
     "execution_count": 43,
     "metadata": {},
     "output_type": "execute_result"
    }
   ],
   "source": [
    "np.max(sample_df, axis=0) # axis0に対して"
   ]
  },
  {
   "cell_type": "code",
   "execution_count": 44,
   "id": "a59a8f46-3090-4edf-abc8-5ed27aa50a33",
   "metadata": {},
   "outputs": [
    {
     "data": {
      "text/plain": [
       "0    62\n",
       "1    23\n",
       "2    58\n",
       "3    64\n",
       "dtype: int64"
      ]
     },
     "execution_count": 44,
     "metadata": {},
     "output_type": "execute_result"
    }
   ],
   "source": [
    "np.max(sample_df, axis=1) # axis1に対して"
   ]
  },
  {
   "cell_type": "markdown",
   "id": "3c8fb7ae-34b8-4270-921a-a6af75928adb",
   "metadata": {},
   "source": [
    "## 2.6 csv"
   ]
  },
  {
   "cell_type": "code",
   "execution_count": 45,
   "id": "88555810-38cf-4772-86cf-3e52169be936",
   "metadata": {},
   "outputs": [],
   "source": [
    "sample_dict2 = {\"StudentID\" : np.arange(10, 110),\n",
    "               \"Japanese\" : np.random.randint(1, 100, 100)*\\\n",
    "                np.random.choice([np.nan, 1], 100, p=[0.1, 0.9]),\n",
    "               \"Math\" : np.random.randint(1, 100, 100),\n",
    "               \"Sex\" : np.random.choice([\"Male\", \"Female\"], 100),\n",
    "               \"Class\" : np.random.choice([\"A\", \"B\", \"C\", None], 100)}\n",
    "sample_df2 = pd.DataFrame(sample_dict2)"
   ]
  },
  {
   "cell_type": "code",
   "execution_count": 46,
   "id": "eac8c1d7-3651-4fb0-9e8e-03e1e48b9ada",
   "metadata": {},
   "outputs": [
    {
     "data": {
      "text/html": [
       "<div>\n",
       "<style scoped>\n",
       "    .dataframe tbody tr th:only-of-type {\n",
       "        vertical-align: middle;\n",
       "    }\n",
       "\n",
       "    .dataframe tbody tr th {\n",
       "        vertical-align: top;\n",
       "    }\n",
       "\n",
       "    .dataframe thead th {\n",
       "        text-align: right;\n",
       "    }\n",
       "</style>\n",
       "<table border=\"1\" class=\"dataframe\">\n",
       "  <thead>\n",
       "    <tr style=\"text-align: right;\">\n",
       "      <th></th>\n",
       "      <th>StudentID</th>\n",
       "      <th>Japanese</th>\n",
       "      <th>Math</th>\n",
       "      <th>Sex</th>\n",
       "      <th>Class</th>\n",
       "    </tr>\n",
       "  </thead>\n",
       "  <tbody>\n",
       "    <tr>\n",
       "      <th>0</th>\n",
       "      <td>10</td>\n",
       "      <td>1.0</td>\n",
       "      <td>55</td>\n",
       "      <td>Female</td>\n",
       "      <td>A</td>\n",
       "    </tr>\n",
       "    <tr>\n",
       "      <th>1</th>\n",
       "      <td>11</td>\n",
       "      <td>61.0</td>\n",
       "      <td>1</td>\n",
       "      <td>Female</td>\n",
       "      <td>C</td>\n",
       "    </tr>\n",
       "    <tr>\n",
       "      <th>2</th>\n",
       "      <td>12</td>\n",
       "      <td>NaN</td>\n",
       "      <td>87</td>\n",
       "      <td>Female</td>\n",
       "      <td>None</td>\n",
       "    </tr>\n",
       "    <tr>\n",
       "      <th>3</th>\n",
       "      <td>13</td>\n",
       "      <td>9.0</td>\n",
       "      <td>17</td>\n",
       "      <td>Female</td>\n",
       "      <td>C</td>\n",
       "    </tr>\n",
       "    <tr>\n",
       "      <th>4</th>\n",
       "      <td>14</td>\n",
       "      <td>NaN</td>\n",
       "      <td>20</td>\n",
       "      <td>Male</td>\n",
       "      <td>A</td>\n",
       "    </tr>\n",
       "  </tbody>\n",
       "</table>\n",
       "</div>"
      ],
      "text/plain": [
       "   StudentID  Japanese  Math     Sex Class\n",
       "0         10       1.0    55  Female     A\n",
       "1         11      61.0     1  Female     C\n",
       "2         12       NaN    87  Female  None\n",
       "3         13       9.0    17  Female     C\n",
       "4         14       NaN    20    Male     A"
      ]
     },
     "execution_count": 46,
     "metadata": {},
     "output_type": "execute_result"
    }
   ],
   "source": [
    "sample_df2.head()"
   ]
  },
  {
   "cell_type": "code",
   "execution_count": 47,
   "id": "20c2960d-57f3-4cef-86f3-b587156d18e5",
   "metadata": {},
   "outputs": [],
   "source": [
    "sample_df2.to_csv(\"csv_data/sample_df.csv\", index_label=False)"
   ]
  },
  {
   "cell_type": "code",
   "execution_count": 48,
   "id": "4b060e25-d956-4ea7-a31a-a384b74ca7fa",
   "metadata": {},
   "outputs": [],
   "source": [
    "read_df = pd.read_csv(\"csv_data/sample_df.csv\")"
   ]
  },
  {
   "cell_type": "code",
   "execution_count": 49,
   "id": "b8644d81-989a-4d9f-b984-5a6d1f75ba57",
   "metadata": {},
   "outputs": [
    {
     "data": {
      "text/html": [
       "<div>\n",
       "<style scoped>\n",
       "    .dataframe tbody tr th:only-of-type {\n",
       "        vertical-align: middle;\n",
       "    }\n",
       "\n",
       "    .dataframe tbody tr th {\n",
       "        vertical-align: top;\n",
       "    }\n",
       "\n",
       "    .dataframe thead th {\n",
       "        text-align: right;\n",
       "    }\n",
       "</style>\n",
       "<table border=\"1\" class=\"dataframe\">\n",
       "  <thead>\n",
       "    <tr style=\"text-align: right;\">\n",
       "      <th></th>\n",
       "      <th>StudentID</th>\n",
       "      <th>Japanese</th>\n",
       "      <th>Math</th>\n",
       "      <th>Sex</th>\n",
       "      <th>Class</th>\n",
       "    </tr>\n",
       "  </thead>\n",
       "  <tbody>\n",
       "    <tr>\n",
       "      <th>0</th>\n",
       "      <td>10</td>\n",
       "      <td>1.0</td>\n",
       "      <td>55</td>\n",
       "      <td>Female</td>\n",
       "      <td>A</td>\n",
       "    </tr>\n",
       "    <tr>\n",
       "      <th>1</th>\n",
       "      <td>11</td>\n",
       "      <td>61.0</td>\n",
       "      <td>1</td>\n",
       "      <td>Female</td>\n",
       "      <td>C</td>\n",
       "    </tr>\n",
       "    <tr>\n",
       "      <th>2</th>\n",
       "      <td>12</td>\n",
       "      <td>NaN</td>\n",
       "      <td>87</td>\n",
       "      <td>Female</td>\n",
       "      <td>NaN</td>\n",
       "    </tr>\n",
       "    <tr>\n",
       "      <th>3</th>\n",
       "      <td>13</td>\n",
       "      <td>9.0</td>\n",
       "      <td>17</td>\n",
       "      <td>Female</td>\n",
       "      <td>C</td>\n",
       "    </tr>\n",
       "    <tr>\n",
       "      <th>4</th>\n",
       "      <td>14</td>\n",
       "      <td>NaN</td>\n",
       "      <td>20</td>\n",
       "      <td>Male</td>\n",
       "      <td>A</td>\n",
       "    </tr>\n",
       "  </tbody>\n",
       "</table>\n",
       "</div>"
      ],
      "text/plain": [
       "   StudentID  Japanese  Math     Sex Class\n",
       "0         10       1.0    55  Female     A\n",
       "1         11      61.0     1  Female     C\n",
       "2         12       NaN    87  Female   NaN\n",
       "3         13       9.0    17  Female     C\n",
       "4         14       NaN    20    Male     A"
      ]
     },
     "execution_count": 49,
     "metadata": {},
     "output_type": "execute_result"
    }
   ],
   "source": [
    "read_df.head()"
   ]
  },
  {
   "cell_type": "code",
   "execution_count": null,
   "id": "b623d87e-1bf4-459f-bf46-3485edb5701d",
   "metadata": {},
   "outputs": [],
   "source": []
  }
 ],
 "metadata": {
  "kernelspec": {
   "display_name": "Python 3 (ipykernel)",
   "language": "python",
   "name": "python3"
  },
  "language_info": {
   "codemirror_mode": {
    "name": "ipython",
    "version": 3
   },
   "file_extension": ".py",
   "mimetype": "text/x-python",
   "name": "python",
   "nbconvert_exporter": "python",
   "pygments_lexer": "ipython3",
   "version": "3.9.12"
  }
 },
 "nbformat": 4,
 "nbformat_minor": 5
}

{
 "cells": [
  {
   "cell_type": "markdown",
   "id": "8da2ed22-09f8-4d6d-b978-a6d11bf6166f",
   "metadata": {
    "slideshow": {
     "slide_type": "skip"
    }
   },
   "source": [
    "# 1 Anacondaで仮想環境"
   ]
  },
  {
   "cell_type": "code",
   "execution_count": 1,
   "id": "2373ca59-45a3-4032-97fc-eafd0dbe6b90",
   "metadata": {
    "slideshow": {
     "slide_type": "slide"
    }
   },
   "outputs": [
    {
     "name": "stdout",
     "output_type": "stream",
     "text": [
      "# conda environments:\n",
      "#\n",
      "base                     /opt/anaconda3\n",
      "anaconda_env          *  /opt/anaconda3/envs/anaconda_env\n",
      "\n"
     ]
    }
   ],
   "source": [
    "!conda info -e"
   ]
  },
  {
   "cell_type": "code",
   "execution_count": 2,
   "id": "fff7d53e-a737-4bcb-a20a-457876bddb86",
   "metadata": {
    "slideshow": {
     "slide_type": "-"
    }
   },
   "outputs": [
    {
     "name": "stdout",
     "output_type": "stream",
     "text": [
      "1.4.4\n"
     ]
    }
   ],
   "source": [
    "import pandas as pd\n",
    "print(pd.__version__)"
   ]
  },
  {
   "cell_type": "code",
   "execution_count": 3,
   "id": "ca41ef47-a24d-46b9-8da5-d216c1a28dc9",
   "metadata": {
    "slideshow": {
     "slide_type": "-"
    }
   },
   "outputs": [
    {
     "ename": "ModuleNotFoundError",
     "evalue": "No module named 'matplotlib'",
     "output_type": "error",
     "traceback": [
      "\u001b[0;31m---------------------------------------------------------------------------\u001b[0m",
      "\u001b[0;31mModuleNotFoundError\u001b[0m                       Traceback (most recent call last)",
      "Input \u001b[0;32mIn [3]\u001b[0m, in \u001b[0;36m<cell line: 1>\u001b[0;34m()\u001b[0m\n\u001b[0;32m----> 1\u001b[0m \u001b[38;5;28;01mimport\u001b[39;00m \u001b[38;5;21;01mmatplotlib\u001b[39;00m\n",
      "\u001b[0;31mModuleNotFoundError\u001b[0m: No module named 'matplotlib'"
     ]
    }
   ],
   "source": [
    "import matplotlib"
   ]
  },
  {
   "cell_type": "code",
   "execution_count": 4,
   "id": "38997516-a66d-4348-abb9-aa97152bebc1",
   "metadata": {
    "slideshow": {
     "slide_type": "slide"
    },
    "tags": []
   },
   "outputs": [
    {
     "name": "stdout",
     "output_type": "stream",
     "text": [
      "# packages in environment at /opt/anaconda3/envs/anaconda_env:\n",
      "#\n",
      "# Name                    Version                   Build  Channel\n",
      "anyio                     3.5.0            py39hecd8cb5_0  \n",
      "appnope                   0.1.2           py39hecd8cb5_1001  \n",
      "argon2-cffi               21.3.0             pyhd3eb1b0_0  \n",
      "argon2-cffi-bindings      21.2.0           py39hca72f7f_0  \n",
      "asttokens                 2.0.5              pyhd3eb1b0_0  \n",
      "attrs                     21.4.0             pyhd3eb1b0_0  \n",
      "babel                     2.9.1              pyhd3eb1b0_0  \n",
      "backcall                  0.2.0              pyhd3eb1b0_0  \n",
      "beautifulsoup4            4.11.1           py39hecd8cb5_0  \n",
      "blas                      1.0                         mkl  \n",
      "bleach                    4.1.0              pyhd3eb1b0_0  \n",
      "bottleneck                1.3.5            py39h67323c0_0  \n",
      "brotlipy                  0.7.0           py39h9ed2024_1003  \n",
      "ca-certificates           2022.07.19           hecd8cb5_0  \n",
      "certifi                   2022.9.24        py39hecd8cb5_0  \n",
      "cffi                      1.15.1           py39hc55c11b_0  \n",
      "charset-normalizer        2.0.4              pyhd3eb1b0_0  \n",
      "cryptography              37.0.1           py39hf6deb26_0  \n",
      "debugpy                   1.5.1            py39he9d5cce_0  \n",
      "decorator                 5.1.1              pyhd3eb1b0_0  \n",
      "defusedxml                0.7.1              pyhd3eb1b0_0  \n",
      "entrypoints               0.4              py39hecd8cb5_0  \n",
      "executing                 0.8.3              pyhd3eb1b0_0  \n",
      "idna                      3.3                pyhd3eb1b0_0  \n",
      "importlib-metadata        4.11.3           py39hecd8cb5_0  \n",
      "intel-openmp              2021.4.0          hecd8cb5_3538  \n",
      "ipykernel                 6.15.2           py39hecd8cb5_0  \n",
      "ipython                   8.4.0            py39hecd8cb5_0  \n",
      "ipython_genutils          0.2.0              pyhd3eb1b0_1  \n",
      "jedi                      0.18.1           py39hecd8cb5_1  \n",
      "jinja2                    3.0.3              pyhd3eb1b0_0  \n",
      "json5                     0.9.6              pyhd3eb1b0_0  \n",
      "jsonschema                4.16.0           py39hecd8cb5_0  \n",
      "jupyter_client            7.3.5            py39hecd8cb5_0  \n",
      "jupyter_core              4.11.1           py39hecd8cb5_0  \n",
      "jupyter_server            1.18.1           py39hecd8cb5_0  \n",
      "jupyterlab                3.4.4            py39hecd8cb5_0  \n",
      "jupyterlab_pygments       0.1.2                      py_0  \n",
      "jupyterlab_server         2.15.2           py39hecd8cb5_0  \n",
      "libcxx                    14.0.6               h9765a3e_0  \n",
      "libffi                    3.3                  hb1e8313_2  \n",
      "libsodium                 1.0.18               h1de35cc_0  \n",
      "markupsafe                2.1.1            py39hca72f7f_0  \n",
      "matplotlib-inline         0.1.6            py39hecd8cb5_0  \n",
      "mistune                   0.8.4           py39h9ed2024_1000  \n",
      "mkl                       2021.4.0           hecd8cb5_637  \n",
      "mkl-service               2.4.0            py39h9ed2024_0  \n",
      "mkl_fft                   1.3.1            py39h4ab4a9b_0  \n",
      "mkl_random                1.2.2            py39hb2f4e1b_0  \n",
      "nbclassic                 0.3.5              pyhd3eb1b0_0  \n",
      "nbclient                  0.5.13           py39hecd8cb5_0  \n",
      "nbconvert                 6.4.4            py39hecd8cb5_0  \n",
      "nbformat                  5.5.0            py39hecd8cb5_0  \n",
      "ncurses                   6.3                  hca72f7f_3  \n",
      "nest-asyncio              1.5.5            py39hecd8cb5_0  \n",
      "notebook                  6.4.12           py39hecd8cb5_0  \n",
      "numexpr                   2.8.3            py39h2e5f0a9_0  \n",
      "numpy                     1.23.1           py39h2e5f0a9_0  \n",
      "numpy-base                1.23.1           py39h3b1a694_0  \n",
      "openssl                   1.1.1q               hca72f7f_0  \n",
      "packaging                 21.3               pyhd3eb1b0_0  \n",
      "pandas                    1.4.4            py39he9d5cce_0  \n",
      "pandocfilters             1.5.0              pyhd3eb1b0_0  \n",
      "parso                     0.8.3              pyhd3eb1b0_0  \n",
      "pexpect                   4.8.0              pyhd3eb1b0_3  \n",
      "pickleshare               0.7.5           pyhd3eb1b0_1003  \n",
      "pip                       22.2.2           py39hecd8cb5_0  \n",
      "prometheus_client         0.14.1           py39hecd8cb5_0  \n",
      "prompt-toolkit            3.0.20             pyhd3eb1b0_0  \n",
      "psutil                    5.9.0            py39hca72f7f_0  \n",
      "ptyprocess                0.7.0              pyhd3eb1b0_2  \n",
      "pure_eval                 0.2.2              pyhd3eb1b0_0  \n",
      "pycparser                 2.21               pyhd3eb1b0_0  \n",
      "pygments                  2.11.2             pyhd3eb1b0_0  \n",
      "pyopenssl                 22.0.0             pyhd3eb1b0_0  \n",
      "pyparsing                 3.0.9            py39hecd8cb5_0  \n",
      "pyrsistent                0.18.0           py39hca72f7f_0  \n",
      "pysocks                   1.7.1            py39hecd8cb5_0  \n",
      "python                    3.9.13               hdfd78df_1  \n",
      "python-dateutil           2.8.2              pyhd3eb1b0_0  \n",
      "python-fastjsonschema     2.16.2           py39hecd8cb5_0  \n",
      "pytz                      2022.1           py39hecd8cb5_0  \n",
      "pyzmq                     23.2.0           py39he9d5cce_0  \n",
      "readline                  8.1.2                hca72f7f_1  \n",
      "requests                  2.28.1           py39hecd8cb5_0  \n",
      "send2trash                1.8.0              pyhd3eb1b0_1  \n",
      "setuptools                63.4.1           py39hecd8cb5_0  \n",
      "six                       1.16.0             pyhd3eb1b0_1  \n",
      "sniffio                   1.2.0            py39hecd8cb5_1  \n",
      "soupsieve                 2.3.1              pyhd3eb1b0_0  \n",
      "sqlite                    3.39.3               h707629a_0  \n",
      "stack_data                0.2.0              pyhd3eb1b0_0  \n",
      "terminado                 0.13.1           py39hecd8cb5_0  \n",
      "testpath                  0.6.0            py39hecd8cb5_0  \n",
      "tk                        8.6.12               h5d9f67b_0  \n",
      "tornado                   6.2              py39hca72f7f_0  \n",
      "traitlets                 5.1.1              pyhd3eb1b0_0  \n",
      "typing-extensions         4.3.0            py39hecd8cb5_0  \n",
      "typing_extensions         4.3.0            py39hecd8cb5_0  \n",
      "tzdata                    2022c                h04d1e81_0  \n",
      "urllib3                   1.26.11          py39hecd8cb5_0  \n",
      "wcwidth                   0.2.5              pyhd3eb1b0_0  \n",
      "webencodings              0.5.1            py39hecd8cb5_1  \n",
      "websocket-client          0.58.0           py39hecd8cb5_4  \n",
      "wheel                     0.37.1             pyhd3eb1b0_0  \n",
      "xz                        5.2.6                hca72f7f_0  \n",
      "zeromq                    4.3.4                h23ab428_0  \n",
      "zipp                      3.8.0            py39hecd8cb5_0  \n",
      "zlib                      1.2.12               h4dc903c_3  \n"
     ]
    }
   ],
   "source": [
    "!conda list"
   ]
  },
  {
   "cell_type": "markdown",
   "id": "b719fa17-3ad2-4abf-b8d5-9ed8bd77cd9d",
   "metadata": {},
   "source": [
    "# 2 commandで仮想環境"
   ]
  },
  {
   "cell_type": "markdown",
   "id": "16983198-710d-4c04-8915-80c531c1ac78",
   "metadata": {},
   "source": [
    "* 仮想環境の作成\n",
    "```sh\n",
    "conda create -n command_env\n",
    "conda create -n command_env python\n",
    "conda create -n command_env python==3.10.4\n",
    "```\n",
    "\n",
    "\n",
    "* 仮想環境に移動\n",
    "```sh\n",
    "conda activate command_env\n",
    "conda info -e\n",
    "```\n",
    "\n",
    "\n",
    "* パッケージのインストール\n",
    "```sh\n",
    "conda install <Package name>\n",
    "conda install -c conda-forge <Package name>\n",
    "pip3 install <Package name>\n",
    "```\n",
    "\n",
    "```sh\n",
    "conda install matplotlib\n",
    "conda install jupyterlab\n",
    "```\n",
    "\n",
    "\n",
    "* jupyterlabの起動\n",
    "```sh\n",
    "jupyter lab\n",
    "```\n",
    "\n",
    "\n",
    "* 環境から離脱\n",
    "```sh\n",
    "Ctrl+C(jupyterlab)\n",
    "conda deactivate\n",
    "conda env remove -n command_env\n",
    "```"
   ]
  },
  {
   "cell_type": "code",
   "execution_count": 1,
   "id": "7146d5c9-2506-42d3-a436-fa22df8c73d2",
   "metadata": {},
   "outputs": [
    {
     "name": "stdout",
     "output_type": "stream",
     "text": [
      "# conda environments:\n",
      "#\n",
      "base                     /opt/anaconda3\n",
      "anaconda_env             /opt/anaconda3/envs/anaconda_env\n",
      "command_env           *  /opt/anaconda3/envs/command_env\n",
      "\n"
     ]
    }
   ],
   "source": [
    "!conda info -e"
   ]
  },
  {
   "cell_type": "code",
   "execution_count": 3,
   "id": "9c194912-e405-4112-98f4-9fc45b084b4c",
   "metadata": {},
   "outputs": [
    {
     "name": "stdout",
     "output_type": "stream",
     "text": [
      "3.5.2\n"
     ]
    }
   ],
   "source": [
    "import matplotlib\n",
    "print(matplotlib.__version__)"
   ]
  },
  {
   "cell_type": "markdown",
   "id": "9086160e-859e-4823-8e92-ae62026209f9",
   "metadata": {},
   "source": [
    "# 3 requirements.txt"
   ]
  },
  {
   "cell_type": "markdown",
   "id": "6d47ff56-16cd-4740-9f2b-061ce55a4bfd",
   "metadata": {},
   "source": [
    "## 3.1 requirements.txtの作成"
   ]
  },
  {
   "cell_type": "code",
   "execution_count": 1,
   "id": "2fae7740-9f83-49ca-87b3-3147c87dbfbf",
   "metadata": {},
   "outputs": [
    {
     "name": "stdout",
     "output_type": "stream",
     "text": [
      "# conda environments:\n",
      "#\n",
      "base                     /opt/anaconda3\n",
      "sample_env            *  /opt/anaconda3/envs/sample_env\n",
      "\n"
     ]
    }
   ],
   "source": [
    "!conda info -e"
   ]
  },
  {
   "cell_type": "code",
   "execution_count": 2,
   "id": "b45cd2f9-cfbf-43a1-beec-d4374433198b",
   "metadata": {
    "collapsed": true,
    "jupyter": {
     "outputs_hidden": true
    },
    "tags": []
   },
   "outputs": [
    {
     "name": "stdout",
     "output_type": "stream",
     "text": [
      "Collecting package metadata (current_repodata.json): done\n",
      "Solving environment: done\n",
      "\n",
      "# All requested packages already installed.\n",
      "\n",
      "Retrieving notices: ...working... done\n",
      "Collecting package metadata (current_repodata.json): done\n",
      "Solving environment: done\n",
      "\n",
      "# All requested packages already installed.\n",
      "\n",
      "Retrieving notices: ...working... done\n",
      "Collecting package metadata (current_repodata.json): done\n",
      "Solving environment: done\n",
      "\n",
      "# All requested packages already installed.\n",
      "\n",
      "Retrieving notices: ...working... done\n",
      "Collecting package metadata (current_repodata.json): done\n",
      "Solving environment: done\n",
      "\n",
      "# All requested packages already installed.\n",
      "\n",
      "Retrieving notices: ...working... done\n",
      "Collecting package metadata (current_repodata.json): done\n",
      "Solving environment: done\n",
      "\n",
      "# All requested packages already installed.\n",
      "\n",
      "Retrieving notices: ...working... done\n"
     ]
    }
   ],
   "source": [
    "!conda install -y numpy\n",
    "!conda install -y pandas\n",
    "!conda install -y matplotlib\n",
    "!conda install -y seaborn\n",
    "!conda install -y scikit-learn"
   ]
  },
  {
   "cell_type": "code",
   "execution_count": 3,
   "id": "88d6c2a0-0b5a-476e-b523-c1435f25c1d4",
   "metadata": {},
   "outputs": [],
   "source": [
    "import matplotlib.pyplot as plt\n",
    "import numpy as np\n",
    "import pandas as pd\n",
    "import seaborn as sns\n",
    "from sklearn.model_selection import train_test_split"
   ]
  },
  {
   "cell_type": "code",
   "execution_count": 4,
   "id": "2dbcc915-6d21-4580-abe7-c0ae9631f2e9",
   "metadata": {},
   "outputs": [
    {
     "name": "stdout",
     "output_type": "stream",
     "text": [
      "/Users/ooikeitsuki/Documents/youtube/30.ライブラリ\n"
     ]
    }
   ],
   "source": [
    "!pwd"
   ]
  },
  {
   "cell_type": "code",
   "execution_count": 5,
   "id": "2237b2ba-8c08-47af-acef-c339e12e4953",
   "metadata": {},
   "outputs": [],
   "source": [
    "# !cd <保存したいpath>"
   ]
  },
  {
   "cell_type": "code",
   "execution_count": 6,
   "id": "8626b90c-a5c7-4e08-bd5d-7bd079c036bd",
   "metadata": {
    "tags": []
   },
   "outputs": [
    {
     "name": "stdout",
     "output_type": "stream",
     "text": [
      "# packages in environment at /opt/anaconda3/envs/sample_env:\n",
      "#\n",
      "# Name                    Version                   Build  Channel\n",
      "anyio                     3.5.0            py39hecd8cb5_0  \n",
      "appnope                   0.1.2           py39hecd8cb5_1001  \n",
      "argon2-cffi               21.3.0             pyhd3eb1b0_0  \n",
      "argon2-cffi-bindings      21.2.0           py39hca72f7f_0  \n",
      "asttokens                 2.0.5              pyhd3eb1b0_0  \n",
      "attrs                     21.4.0             pyhd3eb1b0_0  \n",
      "babel                     2.9.1              pyhd3eb1b0_0  \n",
      "backcall                  0.2.0              pyhd3eb1b0_0  \n",
      "beautifulsoup4            4.11.1           py39hecd8cb5_0  \n",
      "blas                      1.0                         mkl  \n",
      "bleach                    4.1.0              pyhd3eb1b0_0  \n",
      "bottleneck                1.3.5            py39h67323c0_0  \n",
      "brotli                    1.0.9                hca72f7f_7  \n",
      "brotli-bin                1.0.9                hca72f7f_7  \n",
      "brotlipy                  0.7.0           py39h9ed2024_1003  \n",
      "ca-certificates           2022.07.19           hecd8cb5_0  \n",
      "certifi                   2022.9.24        py39hecd8cb5_0  \n",
      "cffi                      1.15.1           py39hc55c11b_0  \n",
      "charset-normalizer        2.0.4              pyhd3eb1b0_0  \n",
      "cryptography              37.0.1           py39hf6deb26_0  \n",
      "cycler                    0.11.0             pyhd3eb1b0_0  \n",
      "debugpy                   1.5.1            py39he9d5cce_0  \n",
      "decorator                 5.1.1              pyhd3eb1b0_0  \n",
      "defusedxml                0.7.1              pyhd3eb1b0_0  \n",
      "entrypoints               0.4              py39hecd8cb5_0  \n",
      "executing                 0.8.3              pyhd3eb1b0_0  \n",
      "fftw                      3.3.9                h9ed2024_1  \n",
      "fonttools                 4.25.0             pyhd3eb1b0_0  \n",
      "freetype                  2.11.0               hd8bbffd_0  \n",
      "giflib                    5.2.1                haf1e3a3_0  \n",
      "idna                      3.3                pyhd3eb1b0_0  \n",
      "importlib-metadata        4.11.3           py39hecd8cb5_0  \n",
      "intel-openmp              2021.4.0          hecd8cb5_3538  \n",
      "ipykernel                 6.15.2           py39hecd8cb5_0  \n",
      "ipython                   8.4.0            py39hecd8cb5_0  \n",
      "ipython_genutils          0.2.0              pyhd3eb1b0_1  \n",
      "jedi                      0.18.1           py39hecd8cb5_1  \n",
      "jinja2                    3.0.3              pyhd3eb1b0_0  \n",
      "joblib                    1.1.0              pyhd3eb1b0_0  \n",
      "jpeg                      9e                   hca72f7f_0  \n",
      "json5                     0.9.6              pyhd3eb1b0_0  \n",
      "jsonschema                4.16.0           py39hecd8cb5_0  \n",
      "jupyter_client            7.3.5            py39hecd8cb5_0  \n",
      "jupyter_core              4.11.1           py39hecd8cb5_0  \n",
      "jupyter_server            1.18.1           py39hecd8cb5_0  \n",
      "jupyterlab                3.4.4            py39hecd8cb5_0  \n",
      "jupyterlab_pygments       0.1.2                      py_0  \n",
      "jupyterlab_server         2.15.2           py39hecd8cb5_0  \n",
      "kiwisolver                1.4.2            py39he9d5cce_0  \n",
      "lcms2                     2.12                 hf1fd2bf_0  \n",
      "lerc                      3.0                  he9d5cce_0  \n",
      "libbrotlicommon           1.0.9                hca72f7f_7  \n",
      "libbrotlidec              1.0.9                hca72f7f_7  \n",
      "libbrotlienc              1.0.9                hca72f7f_7  \n",
      "libcxx                    14.0.6               h9765a3e_0  \n",
      "libdeflate                1.8                  h9ed2024_5  \n",
      "libffi                    3.3                  hb1e8313_2  \n",
      "libgfortran               5.0.0           11_2_0_h246ff09_26  \n",
      "libgfortran5              11.2.0              h246ff09_26  \n",
      "libpng                    1.6.37               ha441bb4_0  \n",
      "libsodium                 1.0.18               h1de35cc_0  \n",
      "libtiff                   4.4.0                h2ef1027_0  \n",
      "libwebp                   1.2.2                h56c3ce4_0  \n",
      "libwebp-base              1.2.2                hca72f7f_0  \n",
      "llvm-openmp               14.0.6               h0dcd299_0  \n",
      "lz4-c                     1.9.3                h23ab428_1  \n",
      "markupsafe                2.1.1            py39hca72f7f_0  \n",
      "matplotlib                3.5.2            py39hecd8cb5_0  \n",
      "matplotlib-base           3.5.2            py39hfb0c5b7_0  \n",
      "matplotlib-inline         0.1.6            py39hecd8cb5_0  \n",
      "mistune                   0.8.4           py39h9ed2024_1000  \n",
      "mkl                       2021.4.0           hecd8cb5_637  \n",
      "mkl-service               2.4.0            py39h9ed2024_0  \n",
      "mkl_fft                   1.3.1            py39h4ab4a9b_0  \n",
      "mkl_random                1.2.2            py39hb2f4e1b_0  \n",
      "munkres                   1.1.4                      py_0  \n",
      "nbclassic                 0.3.5              pyhd3eb1b0_0  \n",
      "nbclient                  0.5.13           py39hecd8cb5_0  \n",
      "nbconvert                 6.4.4            py39hecd8cb5_0  \n",
      "nbformat                  5.5.0            py39hecd8cb5_0  \n",
      "ncurses                   6.3                  hca72f7f_3  \n",
      "nest-asyncio              1.5.5            py39hecd8cb5_0  \n",
      "notebook                  6.4.12           py39hecd8cb5_0  \n",
      "numexpr                   2.8.3            py39h2e5f0a9_0  \n",
      "numpy                     1.23.1           py39h2e5f0a9_0  \n",
      "numpy-base                1.23.1           py39h3b1a694_0  \n",
      "openssl                   1.1.1q               hca72f7f_0  \n",
      "packaging                 21.3               pyhd3eb1b0_0  \n",
      "pandas                    1.4.4            py39he9d5cce_0  \n",
      "pandocfilters             1.5.0              pyhd3eb1b0_0  \n",
      "parso                     0.8.3              pyhd3eb1b0_0  \n",
      "pexpect                   4.8.0              pyhd3eb1b0_3  \n",
      "pickleshare               0.7.5           pyhd3eb1b0_1003  \n",
      "pillow                    9.2.0            py39hde71d04_1  \n",
      "pip                       22.2.2           py39hecd8cb5_0  \n",
      "prometheus_client         0.14.1           py39hecd8cb5_0  \n",
      "prompt-toolkit            3.0.20             pyhd3eb1b0_0  \n",
      "psutil                    5.9.0            py39hca72f7f_0  \n",
      "ptyprocess                0.7.0              pyhd3eb1b0_2  \n",
      "pure_eval                 0.2.2              pyhd3eb1b0_0  \n",
      "pycparser                 2.21               pyhd3eb1b0_0  \n",
      "pygments                  2.11.2             pyhd3eb1b0_0  \n",
      "pyopenssl                 22.0.0             pyhd3eb1b0_0  \n",
      "pyparsing                 3.0.9            py39hecd8cb5_0  \n",
      "pyrsistent                0.18.0           py39hca72f7f_0  \n",
      "pysocks                   1.7.1            py39hecd8cb5_0  \n",
      "python                    3.9.13               hdfd78df_1  \n",
      "python-dateutil           2.8.2              pyhd3eb1b0_0  \n",
      "python-fastjsonschema     2.16.2           py39hecd8cb5_0  \n",
      "pytz                      2022.1           py39hecd8cb5_0  \n",
      "pyzmq                     23.2.0           py39he9d5cce_0  \n",
      "readline                  8.1.2                hca72f7f_1  \n",
      "requests                  2.28.1           py39hecd8cb5_0  \n",
      "scikit-learn              1.1.1            py39he9d5cce_0  \n",
      "scipy                     1.9.1            py39h3d31255_0  \n",
      "seaborn                   0.11.2             pyhd3eb1b0_0  \n",
      "send2trash                1.8.0              pyhd3eb1b0_1  \n",
      "setuptools                63.4.1           py39hecd8cb5_0  \n",
      "six                       1.16.0             pyhd3eb1b0_1  \n",
      "sniffio                   1.2.0            py39hecd8cb5_1  \n",
      "soupsieve                 2.3.1              pyhd3eb1b0_0  \n",
      "sqlite                    3.39.3               h707629a_0  \n",
      "stack_data                0.2.0              pyhd3eb1b0_0  \n",
      "terminado                 0.13.1           py39hecd8cb5_0  \n",
      "testpath                  0.6.0            py39hecd8cb5_0  \n",
      "threadpoolctl             2.2.0              pyh0d69192_0  \n",
      "tk                        8.6.12               h5d9f67b_0  \n",
      "tornado                   6.2              py39hca72f7f_0  \n",
      "traitlets                 5.1.1              pyhd3eb1b0_0  \n",
      "typing-extensions         4.3.0            py39hecd8cb5_0  \n",
      "typing_extensions         4.3.0            py39hecd8cb5_0  \n",
      "tzdata                    2022c                h04d1e81_0  \n",
      "urllib3                   1.26.11          py39hecd8cb5_0  \n",
      "wcwidth                   0.2.5              pyhd3eb1b0_0  \n",
      "webencodings              0.5.1            py39hecd8cb5_1  \n",
      "websocket-client          0.58.0           py39hecd8cb5_4  \n",
      "wheel                     0.37.1             pyhd3eb1b0_0  \n",
      "xz                        5.2.6                hca72f7f_0  \n",
      "zeromq                    4.3.4                h23ab428_0  \n",
      "zipp                      3.8.0            py39hecd8cb5_0  \n",
      "zlib                      1.2.12               h4dc903c_3  \n",
      "zstd                      1.5.2                hcb37349_0  \n"
     ]
    }
   ],
   "source": [
    "!conda list"
   ]
  },
  {
   "cell_type": "code",
   "execution_count": 7,
   "id": "51dad8c3-0f88-4698-8be2-07df4d38aac9",
   "metadata": {
    "tags": []
   },
   "outputs": [
    {
     "name": "stdout",
     "output_type": "stream",
     "text": [
      "# This file may be used to create an environment using:\n",
      "# $ conda create --name <env> --file <this file>\n",
      "# platform: osx-64\n",
      "anyio=3.5.0=py39hecd8cb5_0\n",
      "appnope=0.1.2=py39hecd8cb5_1001\n",
      "argon2-cffi=21.3.0=pyhd3eb1b0_0\n",
      "argon2-cffi-bindings=21.2.0=py39hca72f7f_0\n",
      "asttokens=2.0.5=pyhd3eb1b0_0\n",
      "attrs=21.4.0=pyhd3eb1b0_0\n",
      "babel=2.9.1=pyhd3eb1b0_0\n",
      "backcall=0.2.0=pyhd3eb1b0_0\n",
      "beautifulsoup4=4.11.1=py39hecd8cb5_0\n",
      "blas=1.0=mkl\n",
      "bleach=4.1.0=pyhd3eb1b0_0\n",
      "bottleneck=1.3.5=py39h67323c0_0\n",
      "brotli=1.0.9=hca72f7f_7\n",
      "brotli-bin=1.0.9=hca72f7f_7\n",
      "brotlipy=0.7.0=py39h9ed2024_1003\n",
      "ca-certificates=2022.07.19=hecd8cb5_0\n",
      "certifi=2022.9.24=py39hecd8cb5_0\n",
      "cffi=1.15.1=py39hc55c11b_0\n",
      "charset-normalizer=2.0.4=pyhd3eb1b0_0\n",
      "cryptography=37.0.1=py39hf6deb26_0\n",
      "cycler=0.11.0=pyhd3eb1b0_0\n",
      "debugpy=1.5.1=py39he9d5cce_0\n",
      "decorator=5.1.1=pyhd3eb1b0_0\n",
      "defusedxml=0.7.1=pyhd3eb1b0_0\n",
      "entrypoints=0.4=py39hecd8cb5_0\n",
      "executing=0.8.3=pyhd3eb1b0_0\n",
      "fftw=3.3.9=h9ed2024_1\n",
      "fonttools=4.25.0=pyhd3eb1b0_0\n",
      "freetype=2.11.0=hd8bbffd_0\n",
      "giflib=5.2.1=haf1e3a3_0\n",
      "idna=3.3=pyhd3eb1b0_0\n",
      "importlib-metadata=4.11.3=py39hecd8cb5_0\n",
      "intel-openmp=2021.4.0=hecd8cb5_3538\n",
      "ipykernel=6.15.2=py39hecd8cb5_0\n",
      "ipython=8.4.0=py39hecd8cb5_0\n",
      "ipython_genutils=0.2.0=pyhd3eb1b0_1\n",
      "jedi=0.18.1=py39hecd8cb5_1\n",
      "jinja2=3.0.3=pyhd3eb1b0_0\n",
      "joblib=1.1.0=pyhd3eb1b0_0\n",
      "jpeg=9e=hca72f7f_0\n",
      "json5=0.9.6=pyhd3eb1b0_0\n",
      "jsonschema=4.16.0=py39hecd8cb5_0\n",
      "jupyter_client=7.3.5=py39hecd8cb5_0\n",
      "jupyter_core=4.11.1=py39hecd8cb5_0\n",
      "jupyter_server=1.18.1=py39hecd8cb5_0\n",
      "jupyterlab=3.4.4=py39hecd8cb5_0\n",
      "jupyterlab_pygments=0.1.2=py_0\n",
      "jupyterlab_server=2.15.2=py39hecd8cb5_0\n",
      "kiwisolver=1.4.2=py39he9d5cce_0\n",
      "lcms2=2.12=hf1fd2bf_0\n",
      "lerc=3.0=he9d5cce_0\n",
      "libbrotlicommon=1.0.9=hca72f7f_7\n",
      "libbrotlidec=1.0.9=hca72f7f_7\n",
      "libbrotlienc=1.0.9=hca72f7f_7\n",
      "libcxx=14.0.6=h9765a3e_0\n",
      "libdeflate=1.8=h9ed2024_5\n",
      "libffi=3.3=hb1e8313_2\n",
      "libgfortran=5.0.0=11_2_0_h246ff09_26\n",
      "libgfortran5=11.2.0=h246ff09_26\n",
      "libpng=1.6.37=ha441bb4_0\n",
      "libsodium=1.0.18=h1de35cc_0\n",
      "libtiff=4.4.0=h2ef1027_0\n",
      "libwebp=1.2.2=h56c3ce4_0\n",
      "libwebp-base=1.2.2=hca72f7f_0\n",
      "llvm-openmp=14.0.6=h0dcd299_0\n",
      "lz4-c=1.9.3=h23ab428_1\n",
      "markupsafe=2.1.1=py39hca72f7f_0\n",
      "matplotlib=3.5.2=py39hecd8cb5_0\n",
      "matplotlib-base=3.5.2=py39hfb0c5b7_0\n",
      "matplotlib-inline=0.1.6=py39hecd8cb5_0\n",
      "mistune=0.8.4=py39h9ed2024_1000\n",
      "mkl=2021.4.0=hecd8cb5_637\n",
      "mkl-service=2.4.0=py39h9ed2024_0\n",
      "mkl_fft=1.3.1=py39h4ab4a9b_0\n",
      "mkl_random=1.2.2=py39hb2f4e1b_0\n",
      "munkres=1.1.4=py_0\n",
      "nbclassic=0.3.5=pyhd3eb1b0_0\n",
      "nbclient=0.5.13=py39hecd8cb5_0\n",
      "nbconvert=6.4.4=py39hecd8cb5_0\n",
      "nbformat=5.5.0=py39hecd8cb5_0\n",
      "ncurses=6.3=hca72f7f_3\n",
      "nest-asyncio=1.5.5=py39hecd8cb5_0\n",
      "notebook=6.4.12=py39hecd8cb5_0\n",
      "numexpr=2.8.3=py39h2e5f0a9_0\n",
      "numpy=1.23.1=py39h2e5f0a9_0\n",
      "numpy-base=1.23.1=py39h3b1a694_0\n",
      "openssl=1.1.1q=hca72f7f_0\n",
      "packaging=21.3=pyhd3eb1b0_0\n",
      "pandas=1.4.4=py39he9d5cce_0\n",
      "pandocfilters=1.5.0=pyhd3eb1b0_0\n",
      "parso=0.8.3=pyhd3eb1b0_0\n",
      "pexpect=4.8.0=pyhd3eb1b0_3\n",
      "pickleshare=0.7.5=pyhd3eb1b0_1003\n",
      "pillow=9.2.0=py39hde71d04_1\n",
      "pip=22.2.2=py39hecd8cb5_0\n",
      "prometheus_client=0.14.1=py39hecd8cb5_0\n",
      "prompt-toolkit=3.0.20=pyhd3eb1b0_0\n",
      "psutil=5.9.0=py39hca72f7f_0\n",
      "ptyprocess=0.7.0=pyhd3eb1b0_2\n",
      "pure_eval=0.2.2=pyhd3eb1b0_0\n",
      "pycparser=2.21=pyhd3eb1b0_0\n",
      "pygments=2.11.2=pyhd3eb1b0_0\n",
      "pyopenssl=22.0.0=pyhd3eb1b0_0\n",
      "pyparsing=3.0.9=py39hecd8cb5_0\n",
      "pyrsistent=0.18.0=py39hca72f7f_0\n",
      "pysocks=1.7.1=py39hecd8cb5_0\n",
      "python=3.9.13=hdfd78df_1\n",
      "python-dateutil=2.8.2=pyhd3eb1b0_0\n",
      "python-fastjsonschema=2.16.2=py39hecd8cb5_0\n",
      "pytz=2022.1=py39hecd8cb5_0\n",
      "pyzmq=23.2.0=py39he9d5cce_0\n",
      "readline=8.1.2=hca72f7f_1\n",
      "requests=2.28.1=py39hecd8cb5_0\n",
      "scikit-learn=1.1.1=py39he9d5cce_0\n",
      "scipy=1.9.1=py39h3d31255_0\n",
      "seaborn=0.11.2=pyhd3eb1b0_0\n",
      "send2trash=1.8.0=pyhd3eb1b0_1\n",
      "setuptools=63.4.1=py39hecd8cb5_0\n",
      "six=1.16.0=pyhd3eb1b0_1\n",
      "sniffio=1.2.0=py39hecd8cb5_1\n",
      "soupsieve=2.3.1=pyhd3eb1b0_0\n",
      "sqlite=3.39.3=h707629a_0\n",
      "stack_data=0.2.0=pyhd3eb1b0_0\n",
      "terminado=0.13.1=py39hecd8cb5_0\n",
      "testpath=0.6.0=py39hecd8cb5_0\n",
      "threadpoolctl=2.2.0=pyh0d69192_0\n",
      "tk=8.6.12=h5d9f67b_0\n",
      "tornado=6.2=py39hca72f7f_0\n",
      "traitlets=5.1.1=pyhd3eb1b0_0\n",
      "typing-extensions=4.3.0=py39hecd8cb5_0\n",
      "typing_extensions=4.3.0=py39hecd8cb5_0\n",
      "tzdata=2022c=h04d1e81_0\n",
      "urllib3=1.26.11=py39hecd8cb5_0\n",
      "wcwidth=0.2.5=pyhd3eb1b0_0\n",
      "webencodings=0.5.1=py39hecd8cb5_1\n",
      "websocket-client=0.58.0=py39hecd8cb5_4\n",
      "wheel=0.37.1=pyhd3eb1b0_0\n",
      "xz=5.2.6=hca72f7f_0\n",
      "zeromq=4.3.4=h23ab428_0\n",
      "zipp=3.8.0=py39hecd8cb5_0\n",
      "zlib=1.2.12=h4dc903c_3\n",
      "zstd=1.5.2=hcb37349_0\n"
     ]
    }
   ],
   "source": [
    "!conda list -e"
   ]
  },
  {
   "cell_type": "code",
   "execution_count": 8,
   "id": "1f630f97-5917-4e67-9ef1-a258932c8a42",
   "metadata": {},
   "outputs": [],
   "source": [
    "!conda list -e > requirements.txt"
   ]
  },
  {
   "cell_type": "markdown",
   "id": "cde8ad0b-2466-449d-895f-3e776d153c66",
   "metadata": {},
   "source": [
    "## 3.2 requirements.txtの利用"
   ]
  },
  {
   "cell_type": "code",
   "execution_count": 1,
   "id": "25b7398b-c10c-432d-865a-ac1f5ab47a1b",
   "metadata": {},
   "outputs": [
    {
     "name": "stdout",
     "output_type": "stream",
     "text": [
      "# conda environments:\n",
      "#\n",
      "base                     /opt/anaconda3\n",
      "youtube_env           *  /opt/anaconda3/envs/youtube_env\n",
      "\n"
     ]
    }
   ],
   "source": [
    "!conda info -e"
   ]
  },
  {
   "cell_type": "code",
   "execution_count": 2,
   "id": "7882319d-782f-4625-917c-78423420b69b",
   "metadata": {},
   "outputs": [
    {
     "name": "stdout",
     "output_type": "stream",
     "text": [
      "/Users/ooikeitsuki/Documents/youtube/30.ライブラリ\n"
     ]
    }
   ],
   "source": [
    "!pwd"
   ]
  },
  {
   "cell_type": "code",
   "execution_count": 3,
   "id": "4864c448-f06d-4629-9175-2824b9977a68",
   "metadata": {},
   "outputs": [],
   "source": [
    "# !cd <requirements.txtへのpath>"
   ]
  },
  {
   "cell_type": "code",
   "execution_count": 4,
   "id": "570032ad-d330-412a-87cd-16dbc5febc34",
   "metadata": {},
   "outputs": [
    {
     "name": "stdout",
     "output_type": "stream",
     "text": [
      "1.conda_env.ipynb                     \u001b[34mcommand_env\u001b[m\u001b[m\n",
      "2.venv.ipynb                          \u001b[34mcsv_data\u001b[m\u001b[m\n",
      "3.numpy.ipynb                         \u001b[34mplot_data\u001b[m\u001b[m\n",
      "4.pandas.ipynb                        pythonでデータ分析.pptx\n",
      "5.pandas_DA.ipynb                     requirements.txt\n",
      "6.matplotlib.ipynb                    requirements_venv.txt\n",
      "7.seaborn.ipynb                       \u001b[34mvenv\u001b[m\u001b[m\n",
      "8.sklearn.ipynb                       ~$pythonでデータ分析.pptx\n"
     ]
    }
   ],
   "source": [
    "!ls"
   ]
  },
  {
   "cell_type": "code",
   "execution_count": 5,
   "id": "4421a546-f2b8-43ac-ad79-6b59ec479014",
   "metadata": {
    "tags": []
   },
   "outputs": [
    {
     "name": "stdout",
     "output_type": "stream",
     "text": [
      "Collecting package metadata (current_repodata.json): done\n",
      "Solving environment: done\n",
      "\n",
      "# All requested packages already installed.\n",
      "\n",
      "Retrieving notices: ...working... done\n"
     ]
    }
   ],
   "source": [
    "!conda install -y --file requirements.txt"
   ]
  },
  {
   "cell_type": "code",
   "execution_count": 6,
   "id": "cd7be694-9033-44ac-a61f-6f8285ccf217",
   "metadata": {},
   "outputs": [],
   "source": [
    "import matplotlib.pyplot as plt\n",
    "import numpy as np\n",
    "import pandas as pd\n",
    "import seaborn as sns\n",
    "from sklearn.model_selection import train_test_split"
   ]
  },
  {
   "cell_type": "code",
   "execution_count": null,
   "id": "ee62bbf2-588e-4e42-b12c-d9c5ea12084f",
   "metadata": {},
   "outputs": [],
   "source": []
  }
 ],
 "metadata": {
  "celltoolbar": "Slideshow",
  "kernelspec": {
   "display_name": "Python 3 (ipykernel)",
   "language": "python",
   "name": "python3"
  },
  "language_info": {
   "codemirror_mode": {
    "name": "ipython",
    "version": 3
   },
   "file_extension": ".py",
   "mimetype": "text/x-python",
   "name": "python",
   "nbconvert_exporter": "python",
   "pygments_lexer": "ipython3",
   "version": "3.9.12"
  }
 },
 "nbformat": 4,
 "nbformat_minor": 5
}
